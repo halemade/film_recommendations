{
 "cells": [
  {
   "cell_type": "markdown",
   "metadata": {},
   "source": [
    "<H1> Importing and Exploring Provided Datasets </H1>"
   ]
  },
  {
   "cell_type": "markdown",
   "metadata": {},
   "source": [
    "<H4> Import the necessary packages.</H4>"
   ]
  },
  {
   "cell_type": "code",
   "execution_count": 1,
   "metadata": {},
   "outputs": [],
   "source": [
    "import pandas as pd\n",
    "import sqlite3\n",
    "import matplotlib.pyplot as plt\n",
    "%matplotlib inline\n",
    "import seaborn as sns"
   ]
  },
  {
   "cell_type": "markdown",
   "metadata": {},
   "source": [
    "*Bring in the file names for easy access.*"
   ]
  },
  {
   "cell_type": "code",
   "execution_count": 2,
   "metadata": {},
   "outputs": [],
   "source": [
    "zippedData = ['bom.movie_gross.csv.gz','imdb.name.basics.csv.gz','imdb.title.akas.csv.gz',\n",
    "              'imdb.title.basics.csv.gz','imdb.title.crew.csv.gz',\n",
    "              'imdb.title.principals.csv.gz','imdb.title.ratings.csv.gz',\n",
    "              'rt.movie_info.tsv.gz','rt.reviews.tsv.gz','tmdb.movies.csv.gz',\n",
    "              'tn.movie_budgets.csv.gz']"
   ]
  },
  {
   "cell_type": "code",
   "execution_count": 3,
   "metadata": {},
   "outputs": [],
   "source": [
    "bom_movie_gross = pd.read_csv(\"zippedData/{}\".format(zippedData[0]))\n",
    "imdb_name = pd.read_csv(\"zippedData/{}\".format(zippedData[1]))\n",
    "imdb_title_aka = pd.read_csv(\"zippedData/{}\".format(zippedData[2]))\n",
    "imdb_title_basics = pd.read_csv(\"zippedData/{}\".format(zippedData[3]))\n",
    "imdb_title_crew = pd.read_csv(\"zippedData/{}\".format(zippedData[4]))\n",
    "imdb_title_principals = pd.read_csv(\"zippedData/{}\".format(zippedData[5]))\n",
    "imdb_title_rating = pd.read_csv(\"zippedData/{}\".format(zippedData[6]))\n",
    "rt_movie_info = pd.read_csv(\"zippedData/{}\".format(zippedData[7]),sep='\\t')\n",
    "df8 = pd.read_csv(\"zippedData/{}\".format(zippedData[8]),sep='\\t',encoding='latin1')\n",
    "tmdb_movies = pd.read_csv(\"zippedData/{}\".format(zippedData[9]))\n",
    "tn_movie_budget = pd.read_csv(\"zippedData/{}\".format(zippedData[10]))"
   ]
  },
  {
   "cell_type": "code",
   "execution_count": null,
   "metadata": {},
   "outputs": [],
   "source": []
  },
  {
   "cell_type": "markdown",
   "metadata": {},
   "source": [
    "IMDB. In this section we combined a few imdb mini dataframes to make one joint one. Using this dataframe, we were able to explore which genres held the highest ratings in the last 20 years, and which directors has high ratings. "
   ]
  },
  {
   "cell_type": "markdown",
   "metadata": {},
   "source": [
    "First, we merged the data sets."
   ]
  },
  {
   "cell_type": "code",
   "execution_count": 4,
   "metadata": {},
   "outputs": [
    {
     "data": {
      "text/html": [
       "<div>\n",
       "<style scoped>\n",
       "    .dataframe tbody tr th:only-of-type {\n",
       "        vertical-align: middle;\n",
       "    }\n",
       "\n",
       "    .dataframe tbody tr th {\n",
       "        vertical-align: top;\n",
       "    }\n",
       "\n",
       "    .dataframe thead th {\n",
       "        text-align: right;\n",
       "    }\n",
       "</style>\n",
       "<table border=\"1\" class=\"dataframe\">\n",
       "  <thead>\n",
       "    <tr style=\"text-align: right;\">\n",
       "      <th></th>\n",
       "      <th>tconst</th>\n",
       "      <th>averagerating</th>\n",
       "      <th>numvotes</th>\n",
       "      <th>ordering</th>\n",
       "      <th>nconst</th>\n",
       "      <th>category</th>\n",
       "      <th>job</th>\n",
       "      <th>characters</th>\n",
       "      <th>primary_title</th>\n",
       "      <th>original_title</th>\n",
       "      <th>start_year</th>\n",
       "      <th>runtime_minutes</th>\n",
       "      <th>genres</th>\n",
       "      <th>primary_name</th>\n",
       "      <th>birth_year</th>\n",
       "      <th>death_year</th>\n",
       "      <th>primary_profession</th>\n",
       "      <th>known_for_titles</th>\n",
       "      <th>directors</th>\n",
       "      <th>writers</th>\n",
       "    </tr>\n",
       "  </thead>\n",
       "  <tbody>\n",
       "    <tr>\n",
       "      <th>0</th>\n",
       "      <td>tt10356526</td>\n",
       "      <td>8.3</td>\n",
       "      <td>31</td>\n",
       "      <td>10</td>\n",
       "      <td>nm8994524</td>\n",
       "      <td>production_designer</td>\n",
       "      <td>NaN</td>\n",
       "      <td>NaN</td>\n",
       "      <td>Laiye Je Yaarian</td>\n",
       "      <td>Laiye Je Yaarian</td>\n",
       "      <td>2019</td>\n",
       "      <td>117.0</td>\n",
       "      <td>Romance</td>\n",
       "      <td>Kazi Rafik Ali</td>\n",
       "      <td>NaN</td>\n",
       "      <td>NaN</td>\n",
       "      <td>production_designer,art_department</td>\n",
       "      <td>tt9190740,tt2837596,tt4773212,tt8749962</td>\n",
       "      <td>nm8353804</td>\n",
       "      <td>nm3057599,nm4179342</td>\n",
       "    </tr>\n",
       "    <tr>\n",
       "      <th>1</th>\n",
       "      <td>tt10356526</td>\n",
       "      <td>8.3</td>\n",
       "      <td>31</td>\n",
       "      <td>1</td>\n",
       "      <td>nm4718369</td>\n",
       "      <td>actor</td>\n",
       "      <td>NaN</td>\n",
       "      <td>[\"Sukh\"]</td>\n",
       "      <td>Laiye Je Yaarian</td>\n",
       "      <td>Laiye Je Yaarian</td>\n",
       "      <td>2019</td>\n",
       "      <td>117.0</td>\n",
       "      <td>Romance</td>\n",
       "      <td>Harish Verma</td>\n",
       "      <td>NaN</td>\n",
       "      <td>NaN</td>\n",
       "      <td>actor</td>\n",
       "      <td>tt3265542,tt7246718,tt8108168,tt3331954</td>\n",
       "      <td>nm8353804</td>\n",
       "      <td>nm3057599,nm4179342</td>\n",
       "    </tr>\n",
       "    <tr>\n",
       "      <th>2</th>\n",
       "      <td>tt10356526</td>\n",
       "      <td>8.3</td>\n",
       "      <td>31</td>\n",
       "      <td>2</td>\n",
       "      <td>nm10007357</td>\n",
       "      <td>actress</td>\n",
       "      <td>NaN</td>\n",
       "      <td>[\"Raunak\"]</td>\n",
       "      <td>Laiye Je Yaarian</td>\n",
       "      <td>Laiye Je Yaarian</td>\n",
       "      <td>2019</td>\n",
       "      <td>117.0</td>\n",
       "      <td>Romance</td>\n",
       "      <td>Roopi Gill</td>\n",
       "      <td>NaN</td>\n",
       "      <td>NaN</td>\n",
       "      <td>actress</td>\n",
       "      <td>tt8749962,tt9260244,tt8785138</td>\n",
       "      <td>nm8353804</td>\n",
       "      <td>nm3057599,nm4179342</td>\n",
       "    </tr>\n",
       "    <tr>\n",
       "      <th>3</th>\n",
       "      <td>tt10356526</td>\n",
       "      <td>8.3</td>\n",
       "      <td>31</td>\n",
       "      <td>3</td>\n",
       "      <td>nm8743259</td>\n",
       "      <td>actress</td>\n",
       "      <td>NaN</td>\n",
       "      <td>[\"Jaanpreet\"]</td>\n",
       "      <td>Laiye Je Yaarian</td>\n",
       "      <td>Laiye Je Yaarian</td>\n",
       "      <td>2019</td>\n",
       "      <td>117.0</td>\n",
       "      <td>Romance</td>\n",
       "      <td>Rubina Bajwa</td>\n",
       "      <td>NaN</td>\n",
       "      <td>NaN</td>\n",
       "      <td>actress</td>\n",
       "      <td>tt8125398,tt7897324,tt10081104,tt6476532</td>\n",
       "      <td>nm8353804</td>\n",
       "      <td>nm3057599,nm4179342</td>\n",
       "    </tr>\n",
       "    <tr>\n",
       "      <th>4</th>\n",
       "      <td>tt10356526</td>\n",
       "      <td>8.3</td>\n",
       "      <td>31</td>\n",
       "      <td>4</td>\n",
       "      <td>nm3760302</td>\n",
       "      <td>actor</td>\n",
       "      <td>NaN</td>\n",
       "      <td>[\"Garry Randhawa\"]</td>\n",
       "      <td>Laiye Je Yaarian</td>\n",
       "      <td>Laiye Je Yaarian</td>\n",
       "      <td>2019</td>\n",
       "      <td>117.0</td>\n",
       "      <td>Romance</td>\n",
       "      <td>Amrinder Gill</td>\n",
       "      <td>NaN</td>\n",
       "      <td>NaN</td>\n",
       "      <td>actor,music_department,soundtrack</td>\n",
       "      <td>tt4846952,tt5569468,tt6882872,tt8749962</td>\n",
       "      <td>nm8353804</td>\n",
       "      <td>nm3057599,nm4179342</td>\n",
       "    </tr>\n",
       "  </tbody>\n",
       "</table>\n",
       "</div>"
      ],
      "text/plain": [
       "       tconst  averagerating  numvotes  ordering      nconst  \\\n",
       "0  tt10356526            8.3        31        10   nm8994524   \n",
       "1  tt10356526            8.3        31         1   nm4718369   \n",
       "2  tt10356526            8.3        31         2  nm10007357   \n",
       "3  tt10356526            8.3        31         3   nm8743259   \n",
       "4  tt10356526            8.3        31         4   nm3760302   \n",
       "\n",
       "              category  job          characters     primary_title  \\\n",
       "0  production_designer  NaN                 NaN  Laiye Je Yaarian   \n",
       "1                actor  NaN            [\"Sukh\"]  Laiye Je Yaarian   \n",
       "2              actress  NaN          [\"Raunak\"]  Laiye Je Yaarian   \n",
       "3              actress  NaN       [\"Jaanpreet\"]  Laiye Je Yaarian   \n",
       "4                actor  NaN  [\"Garry Randhawa\"]  Laiye Je Yaarian   \n",
       "\n",
       "     original_title  start_year  runtime_minutes   genres    primary_name  \\\n",
       "0  Laiye Je Yaarian        2019            117.0  Romance  Kazi Rafik Ali   \n",
       "1  Laiye Je Yaarian        2019            117.0  Romance    Harish Verma   \n",
       "2  Laiye Je Yaarian        2019            117.0  Romance      Roopi Gill   \n",
       "3  Laiye Je Yaarian        2019            117.0  Romance    Rubina Bajwa   \n",
       "4  Laiye Je Yaarian        2019            117.0  Romance   Amrinder Gill   \n",
       "\n",
       "   birth_year  death_year                  primary_profession  \\\n",
       "0         NaN         NaN  production_designer,art_department   \n",
       "1         NaN         NaN                               actor   \n",
       "2         NaN         NaN                             actress   \n",
       "3         NaN         NaN                             actress   \n",
       "4         NaN         NaN   actor,music_department,soundtrack   \n",
       "\n",
       "                           known_for_titles  directors              writers  \n",
       "0   tt9190740,tt2837596,tt4773212,tt8749962  nm8353804  nm3057599,nm4179342  \n",
       "1   tt3265542,tt7246718,tt8108168,tt3331954  nm8353804  nm3057599,nm4179342  \n",
       "2             tt8749962,tt9260244,tt8785138  nm8353804  nm3057599,nm4179342  \n",
       "3  tt8125398,tt7897324,tt10081104,tt6476532  nm8353804  nm3057599,nm4179342  \n",
       "4   tt4846952,tt5569468,tt6882872,tt8749962  nm8353804  nm3057599,nm4179342  "
      ]
     },
     "execution_count": 4,
     "metadata": {},
     "output_type": "execute_result"
    }
   ],
   "source": [
    "imdb=imdb_title_rating.merge(imdb_title_principals,on='tconst')\n",
    "imdb=imdb.merge(imdb_title_basics,on='tconst')\n",
    "imdb=imdb.merge(imdb_name,on='nconst')\n",
    "imdb=imdb.merge(imdb_title_crew,on='tconst')\n",
    "imdb.head()"
   ]
  },
  {
   "cell_type": "markdown",
   "metadata": {},
   "source": [
    "Next, we pulled the relevant columns, dropped duplicates and dropped mising values."
   ]
  },
  {
   "cell_type": "code",
   "execution_count": 5,
   "metadata": {},
   "outputs": [
    {
     "data": {
      "text/plain": [
       "array(['Laiye Je Yaarian', 'Bhajjo Veero Ve', 'Thug Life', ..., 'Heroes',\n",
       "       'Postarica Ruza', 'Mad House: A Paranormal Documentary'],\n",
       "      dtype=object)"
      ]
     },
     "execution_count": 5,
     "metadata": {},
     "output_type": "execute_result"
    }
   ],
   "source": [
    "imdb=imdb[['original_title','genres','start_year','averagerating','category','primary_profession','primary_name']].where(imdb['start_year']>2000)\n",
    "imdb=imdb.drop_duplicates('original_title')\n",
    "imdb.dropna(inplace=True)\n",
    "imdb['original_title'].unique()\n"
   ]
  },
  {
   "cell_type": "markdown",
   "metadata": {},
   "source": [
    "For the first question, which genres have the highest rating, we pulled the two columns that we needed: average rating and genres. "
   ]
  },
  {
   "cell_type": "code",
   "execution_count": 6,
   "metadata": {},
   "outputs": [
    {
     "data": {
      "text/html": [
       "<div>\n",
       "<style scoped>\n",
       "    .dataframe tbody tr th:only-of-type {\n",
       "        vertical-align: middle;\n",
       "    }\n",
       "\n",
       "    .dataframe tbody tr th {\n",
       "        vertical-align: top;\n",
       "    }\n",
       "\n",
       "    .dataframe thead th {\n",
       "        text-align: right;\n",
       "    }\n",
       "</style>\n",
       "<table border=\"1\" class=\"dataframe\">\n",
       "  <thead>\n",
       "    <tr style=\"text-align: right;\">\n",
       "      <th></th>\n",
       "      <th>genres</th>\n",
       "      <th>averagerating</th>\n",
       "    </tr>\n",
       "  </thead>\n",
       "  <tbody>\n",
       "    <tr>\n",
       "      <th>0</th>\n",
       "      <td>Romance</td>\n",
       "      <td>8.3</td>\n",
       "    </tr>\n",
       "    <tr>\n",
       "      <th>10</th>\n",
       "      <td>Comedy,Drama,Romance</td>\n",
       "      <td>8.3</td>\n",
       "    </tr>\n",
       "    <tr>\n",
       "      <th>20</th>\n",
       "      <td>Comedy</td>\n",
       "      <td>6.4</td>\n",
       "    </tr>\n",
       "    <tr>\n",
       "      <th>30</th>\n",
       "      <td>Comedy,Romance</td>\n",
       "      <td>6.4</td>\n",
       "    </tr>\n",
       "    <tr>\n",
       "      <th>40</th>\n",
       "      <td>Comedy</td>\n",
       "      <td>6.9</td>\n",
       "    </tr>\n",
       "  </tbody>\n",
       "</table>\n",
       "</div>"
      ],
      "text/plain": [
       "                  genres  averagerating\n",
       "0                Romance            8.3\n",
       "10  Comedy,Drama,Romance            8.3\n",
       "20                Comedy            6.4\n",
       "30        Comedy,Romance            6.4\n",
       "40                Comedy            6.9"
      ]
     },
     "execution_count": 6,
     "metadata": {},
     "output_type": "execute_result"
    }
   ],
   "source": [
    "imdb_genre_rating=imdb[['genres','averagerating']]\n",
    "imdb_genre_rating.head()"
   ]
  },
  {
   "cell_type": "markdown",
   "metadata": {},
   "source": [
    "Since the genre column sometimes contained more than one genre, we split this column so that each column only contained one genre.Then we renamed them and put them back together. This way we were able to anaylze which genres had the highest ratings. "
   ]
  },
  {
   "cell_type": "code",
   "execution_count": 7,
   "metadata": {},
   "outputs": [
    {
     "name": "stderr",
     "output_type": "stream",
     "text": [
      "C:\\Users\\weinb\\anaconda3\\envs\\learn-env\\lib\\site-packages\\pandas\\core\\frame.py:3065: SettingWithCopyWarning: \n",
      "A value is trying to be set on a copy of a slice from a DataFrame.\n",
      "Try using .loc[row_indexer,col_indexer] = value instead\n",
      "\n",
      "See the caveats in the documentation: https://pandas.pydata.org/pandas-docs/stable/user_guide/indexing.html#returning-a-view-versus-a-copy\n",
      "  self[k1] = value[k2]\n"
     ]
    },
    {
     "data": {
      "text/plain": [
       "array([None, 'Romance', 'Drama', 'Fantasy', 'Horror', 'Family', 'Western',\n",
       "       'Thriller', 'Crime', 'Mystery', 'History', 'Sci-Fi', 'Comedy',\n",
       "       'War', 'Sport', 'Music', 'Documentary', 'News', 'Musical',\n",
       "       'Animation', 'Biography', 'Reality-TV', 'Adventure', 'Adult',\n",
       "       'Game-Show', 'Short', 'Action'], dtype=object)"
      ]
     },
     "execution_count": 7,
     "metadata": {},
     "output_type": "execute_result"
    }
   ],
   "source": [
    "imdb_genre_rating[[\"One\",\"Two\",\"Three\"]]=imdb_genre_rating.genres.str.split(pat=',', n=- 1, expand=True)\n",
    "imdb_genre_rating\n",
    "imdb_genre_rating_one=imdb_genre_rating[['One','averagerating']]\n",
    "imdb_genre_rating_two=imdb_genre_rating[['Two','averagerating']]    \n",
    "imdb_genre_rating_three=imdb_genre_rating[['Three','averagerating']]\n",
    "imdb_genre_rating_one=imdb_genre_rating_one.rename(columns={\"One\":\"Genre\"})\n",
    "imdb_genre_rating_two=imdb_genre_rating_two.rename(columns={\"Two\":\"Genre\"})\n",
    "imdb_genre_rating_three=imdb_genre_rating_three.rename(columns={\"Three\":\"Genre\"})\n",
    "genre_rating=pd.concat([imdb_genre_rating_three,imdb_genre_rating_two,imdb_genre_rating_one])\n",
    "genre_rating['Genre'].unique()\n"
   ]
  },
  {
   "cell_type": "code",
   "execution_count": 8,
   "metadata": {},
   "outputs": [
    {
     "data": {
      "text/plain": [
       "array(['Romance', 'Drama', 'Fantasy', 'Horror', 'Family', 'Western',\n",
       "       'Thriller', 'Crime', 'Mystery', 'History', 'Sci-Fi', 'Comedy',\n",
       "       'War', 'Sport', 'Documentary', 'Musical', 'Animation', 'Biography',\n",
       "       'Adventure', 'Adult', 'Action'], dtype=object)"
      ]
     },
     "execution_count": 8,
     "metadata": {},
     "output_type": "execute_result"
    }
   ],
   "source": [
    "genre_rating=genre_rating[genre_rating.Genre != 'Music']\n",
    "genre_rating=genre_rating[genre_rating.Genre != 'Reality-TV']\n",
    "genre_rating=genre_rating[genre_rating.Genre != 'News']\n",
    "genre_rating=genre_rating[genre_rating.Genre != 'Game-Show']\n",
    "genre_rating=genre_rating[genre_rating.Genre != 'Short']\n",
    "genre_rating.dropna(inplace=True)\n",
    "genre_rating['Genre'].unique()"
   ]
  },
  {
   "cell_type": "code",
   "execution_count": 14,
   "metadata": {},
   "outputs": [
    {
     "data": {
      "text/html": [
       "<div>\n",
       "<style scoped>\n",
       "    .dataframe tbody tr th:only-of-type {\n",
       "        vertical-align: middle;\n",
       "    }\n",
       "\n",
       "    .dataframe tbody tr th {\n",
       "        vertical-align: top;\n",
       "    }\n",
       "\n",
       "    .dataframe thead th {\n",
       "        text-align: right;\n",
       "    }\n",
       "</style>\n",
       "<table border=\"1\" class=\"dataframe\">\n",
       "  <thead>\n",
       "    <tr style=\"text-align: right;\">\n",
       "      <th></th>\n",
       "      <th>averagerating</th>\n",
       "    </tr>\n",
       "    <tr>\n",
       "      <th>Genre</th>\n",
       "      <th></th>\n",
       "    </tr>\n",
       "  </thead>\n",
       "  <tbody>\n",
       "    <tr>\n",
       "      <th>Documentary</th>\n",
       "      <td>7.316969</td>\n",
       "    </tr>\n",
       "    <tr>\n",
       "      <th>Biography</th>\n",
       "      <td>7.142283</td>\n",
       "    </tr>\n",
       "    <tr>\n",
       "      <th>History</th>\n",
       "      <td>7.029226</td>\n",
       "    </tr>\n",
       "    <tr>\n",
       "      <th>Sport</th>\n",
       "      <td>6.911069</td>\n",
       "    </tr>\n",
       "    <tr>\n",
       "      <th>War</th>\n",
       "      <td>6.559804</td>\n",
       "    </tr>\n",
       "    <tr>\n",
       "      <th>Musical</th>\n",
       "      <td>6.487246</td>\n",
       "    </tr>\n",
       "    <tr>\n",
       "      <th>Drama</th>\n",
       "      <td>6.396117</td>\n",
       "    </tr>\n",
       "    <tr>\n",
       "      <th>Family</th>\n",
       "      <td>6.372205</td>\n",
       "    </tr>\n",
       "    <tr>\n",
       "      <th>Animation</th>\n",
       "      <td>6.231209</td>\n",
       "    </tr>\n",
       "    <tr>\n",
       "      <th>Adventure</th>\n",
       "      <td>6.169288</td>\n",
       "    </tr>\n",
       "    <tr>\n",
       "      <th>Romance</th>\n",
       "      <td>6.142217</td>\n",
       "    </tr>\n",
       "    <tr>\n",
       "      <th>Crime</th>\n",
       "      <td>6.105897</td>\n",
       "    </tr>\n",
       "    <tr>\n",
       "      <th>Comedy</th>\n",
       "      <td>5.989211</td>\n",
       "    </tr>\n",
       "    <tr>\n",
       "      <th>Mystery</th>\n",
       "      <td>5.924595</td>\n",
       "    </tr>\n",
       "    <tr>\n",
       "      <th>Fantasy</th>\n",
       "      <td>5.914793</td>\n",
       "    </tr>\n",
       "  </tbody>\n",
       "</table>\n",
       "</div>"
      ],
      "text/plain": [
       "             averagerating\n",
       "Genre                     \n",
       "Documentary       7.316969\n",
       "Biography         7.142283\n",
       "History           7.029226\n",
       "Sport             6.911069\n",
       "War               6.559804\n",
       "Musical           6.487246\n",
       "Drama             6.396117\n",
       "Family            6.372205\n",
       "Animation         6.231209\n",
       "Adventure         6.169288\n",
       "Romance           6.142217\n",
       "Crime             6.105897\n",
       "Comedy            5.989211\n",
       "Mystery           5.924595\n",
       "Fantasy           5.914793"
      ]
     },
     "execution_count": 14,
     "metadata": {},
     "output_type": "execute_result"
    }
   ],
   "source": [
    "genre_rating_mean=genre_rating.groupby(genre_rating['Genre']).mean().sort_values(by=['averagerating'],ascending=False).head(15)\n",
    "genre_rating_mean\n",
    "#ax=sns.barplot(x=\"Genre\", y=\"averagerating\", data=genre_rating_mean)\n",
    "#genre_rating_mean\n",
    "#sns.boxplot(x=\"Genre\", y=\"averagerating\", data=genre_rating)"
   ]
  },
  {
   "cell_type": "code",
   "execution_count": 27,
   "metadata": {},
   "outputs": [
    {
     "data": {
      "text/plain": [
       "Text(0.5, 1.0, 'Distribution of User Rating in Each Genre ')"
      ]
     },
     "execution_count": 27,
     "metadata": {},
     "output_type": "execute_result"
    },
    {
     "data": {
      "image/png": "[encoded data removed]",
      "text/plain": [
       "<Figure size 432x288 with 1 Axes>"
      ]
     },
     "metadata": {},
     "output_type": "display_data"
    }
   ],
   "source": [
    "genre_rating=genre_rating[genre_rating.Genre != 'Horror']\n",
    "genre_rating=genre_rating[genre_rating.Genre != 'Western']\n",
    "genre_rating=genre_rating[genre_rating.Genre != 'Thriller']\n",
    "genre_rating=genre_rating[genre_rating.Genre != 'Sci-Fi']\n",
    "genre_rating=genre_rating[genre_rating.Genre != 'Adult']\n",
    "genre_rating.groupby(genre_rating['Genre']).agg(['mean','median'])\n",
    "\n",
    "ax= sns.boxplot(x=\"averagerating\",y=\"Genre\",data=genre_rating)\n",
    "ax.set_xlabel(\"User Rating\")\n",
    "ax.set_ylabel(\"Genres\")\n",
    "ax.set_title(\"Distribution of User Rating in Each Genre \")\n",
    "\n"
   ]
  },
  {
   "cell_type": "code",
   "execution_count": 15,
   "metadata": {},
   "outputs": [
    {
     "ename": "KeyError",
     "evalue": "'Genre'",
     "output_type": "error",
     "traceback": [
      "\u001b[1;31m---------------------------------------------------------------------------\u001b[0m",
      "\u001b[1;31mKeyError\u001b[0m                                  Traceback (most recent call last)",
      "\u001b[1;32m~\\anaconda3\\envs\\learn-env\\lib\\site-packages\\pandas\\core\\indexes\\base.py\u001b[0m in \u001b[0;36mget_loc\u001b[1;34m(self, key, method, tolerance)\u001b[0m\n\u001b[0;32m   2894\u001b[0m             \u001b[1;32mtry\u001b[0m\u001b[1;33m:\u001b[0m\u001b[1;33m\u001b[0m\u001b[1;33m\u001b[0m\u001b[0m\n\u001b[1;32m-> 2895\u001b[1;33m                 \u001b[1;32mreturn\u001b[0m \u001b[0mself\u001b[0m\u001b[1;33m.\u001b[0m\u001b[0m_engine\u001b[0m\u001b[1;33m.\u001b[0m\u001b[0mget_loc\u001b[0m\u001b[1;33m(\u001b[0m\u001b[0mcasted_key\u001b[0m\u001b[1;33m)\u001b[0m\u001b[1;33m\u001b[0m\u001b[1;33m\u001b[0m\u001b[0m\n\u001b[0m\u001b[0;32m   2896\u001b[0m             \u001b[1;32mexcept\u001b[0m \u001b[0mKeyError\u001b[0m \u001b[1;32mas\u001b[0m \u001b[0merr\u001b[0m\u001b[1;33m:\u001b[0m\u001b[1;33m\u001b[0m\u001b[1;33m\u001b[0m\u001b[0m\n",
      "\u001b[1;32mpandas\\_libs\\index.pyx\u001b[0m in \u001b[0;36mpandas._libs.index.IndexEngine.get_loc\u001b[1;34m()\u001b[0m\n",
      "\u001b[1;32mpandas\\_libs\\index.pyx\u001b[0m in \u001b[0;36mpandas._libs.index.IndexEngine.get_loc\u001b[1;34m()\u001b[0m\n",
      "\u001b[1;32mpandas\\_libs\\hashtable_class_helper.pxi\u001b[0m in \u001b[0;36mpandas._libs.hashtable.PyObjectHashTable.get_item\u001b[1;34m()\u001b[0m\n",
      "\u001b[1;32mpandas\\_libs\\hashtable_class_helper.pxi\u001b[0m in \u001b[0;36mpandas._libs.hashtable.PyObjectHashTable.get_item\u001b[1;34m()\u001b[0m\n",
      "\u001b[1;31mKeyError\u001b[0m: 'Genre'",
      "\nThe above exception was the direct cause of the following exception:\n",
      "\u001b[1;31mKeyError\u001b[0m                                  Traceback (most recent call last)",
      "\u001b[1;32m<ipython-input-15-42ea760a22c7>\u001b[0m in \u001b[0;36m<module>\u001b[1;34m\u001b[0m\n\u001b[0;32m      1\u001b[0m \u001b[0mfig\u001b[0m\u001b[1;33m,\u001b[0m \u001b[1;33m(\u001b[0m\u001b[0max1\u001b[0m\u001b[1;33m,\u001b[0m \u001b[0max2\u001b[0m\u001b[1;33m)\u001b[0m \u001b[1;33m=\u001b[0m \u001b[0mplt\u001b[0m\u001b[1;33m.\u001b[0m\u001b[0msubplots\u001b[0m\u001b[1;33m(\u001b[0m\u001b[0mncols\u001b[0m\u001b[1;33m=\u001b[0m\u001b[1;36m2\u001b[0m\u001b[1;33m,\u001b[0m \u001b[0mfigsize\u001b[0m\u001b[1;33m=\u001b[0m\u001b[1;33m(\u001b[0m\u001b[1;36m20\u001b[0m\u001b[1;33m,\u001b[0m \u001b[1;36m10\u001b[0m\u001b[1;33m)\u001b[0m\u001b[1;33m)\u001b[0m\u001b[1;33m\u001b[0m\u001b[1;33m\u001b[0m\u001b[0m\n\u001b[0;32m      2\u001b[0m ax1.bar(\n\u001b[1;32m----> 3\u001b[1;33m     \u001b[0mx\u001b[0m\u001b[1;33m=\u001b[0m\u001b[0mgenre_rating_mean\u001b[0m\u001b[1;33m[\u001b[0m\u001b[1;34m\"Genre\"\u001b[0m\u001b[1;33m]\u001b[0m\u001b[1;33m,\u001b[0m\u001b[1;33m\u001b[0m\u001b[1;33m\u001b[0m\u001b[0m\n\u001b[0m\u001b[0;32m      4\u001b[0m     \u001b[0mheight\u001b[0m\u001b[1;33m=\u001b[0m\u001b[0mgenre_rating_mean\u001b[0m\u001b[1;33m[\u001b[0m\u001b[1;34m\"averagerating\"\u001b[0m\u001b[1;33m]\u001b[0m\u001b[1;33m,\u001b[0m\u001b[1;33m\u001b[0m\u001b[1;33m\u001b[0m\u001b[0m\n\u001b[0;32m      5\u001b[0m     \u001b[0malpha\u001b[0m\u001b[1;33m=\u001b[0m\u001b[1;36m0.3\u001b[0m\u001b[1;33m,\u001b[0m\u001b[1;33m\u001b[0m\u001b[1;33m\u001b[0m\u001b[0m\n",
      "\u001b[1;32m~\\anaconda3\\envs\\learn-env\\lib\\site-packages\\pandas\\core\\frame.py\u001b[0m in \u001b[0;36m__getitem__\u001b[1;34m(self, key)\u001b[0m\n\u001b[0;32m   2900\u001b[0m             \u001b[1;32mif\u001b[0m \u001b[0mself\u001b[0m\u001b[1;33m.\u001b[0m\u001b[0mcolumns\u001b[0m\u001b[1;33m.\u001b[0m\u001b[0mnlevels\u001b[0m \u001b[1;33m>\u001b[0m \u001b[1;36m1\u001b[0m\u001b[1;33m:\u001b[0m\u001b[1;33m\u001b[0m\u001b[1;33m\u001b[0m\u001b[0m\n\u001b[0;32m   2901\u001b[0m                 \u001b[1;32mreturn\u001b[0m \u001b[0mself\u001b[0m\u001b[1;33m.\u001b[0m\u001b[0m_getitem_multilevel\u001b[0m\u001b[1;33m(\u001b[0m\u001b[0mkey\u001b[0m\u001b[1;33m)\u001b[0m\u001b[1;33m\u001b[0m\u001b[1;33m\u001b[0m\u001b[0m\n\u001b[1;32m-> 2902\u001b[1;33m             \u001b[0mindexer\u001b[0m \u001b[1;33m=\u001b[0m \u001b[0mself\u001b[0m\u001b[1;33m.\u001b[0m\u001b[0mcolumns\u001b[0m\u001b[1;33m.\u001b[0m\u001b[0mget_loc\u001b[0m\u001b[1;33m(\u001b[0m\u001b[0mkey\u001b[0m\u001b[1;33m)\u001b[0m\u001b[1;33m\u001b[0m\u001b[1;33m\u001b[0m\u001b[0m\n\u001b[0m\u001b[0;32m   2903\u001b[0m             \u001b[1;32mif\u001b[0m \u001b[0mis_integer\u001b[0m\u001b[1;33m(\u001b[0m\u001b[0mindexer\u001b[0m\u001b[1;33m)\u001b[0m\u001b[1;33m:\u001b[0m\u001b[1;33m\u001b[0m\u001b[1;33m\u001b[0m\u001b[0m\n\u001b[0;32m   2904\u001b[0m                 \u001b[0mindexer\u001b[0m \u001b[1;33m=\u001b[0m \u001b[1;33m[\u001b[0m\u001b[0mindexer\u001b[0m\u001b[1;33m]\u001b[0m\u001b[1;33m\u001b[0m\u001b[1;33m\u001b[0m\u001b[0m\n",
      "\u001b[1;32m~\\anaconda3\\envs\\learn-env\\lib\\site-packages\\pandas\\core\\indexes\\base.py\u001b[0m in \u001b[0;36mget_loc\u001b[1;34m(self, key, method, tolerance)\u001b[0m\n\u001b[0;32m   2895\u001b[0m                 \u001b[1;32mreturn\u001b[0m \u001b[0mself\u001b[0m\u001b[1;33m.\u001b[0m\u001b[0m_engine\u001b[0m\u001b[1;33m.\u001b[0m\u001b[0mget_loc\u001b[0m\u001b[1;33m(\u001b[0m\u001b[0mcasted_key\u001b[0m\u001b[1;33m)\u001b[0m\u001b[1;33m\u001b[0m\u001b[1;33m\u001b[0m\u001b[0m\n\u001b[0;32m   2896\u001b[0m             \u001b[1;32mexcept\u001b[0m \u001b[0mKeyError\u001b[0m \u001b[1;32mas\u001b[0m \u001b[0merr\u001b[0m\u001b[1;33m:\u001b[0m\u001b[1;33m\u001b[0m\u001b[1;33m\u001b[0m\u001b[0m\n\u001b[1;32m-> 2897\u001b[1;33m                 \u001b[1;32mraise\u001b[0m \u001b[0mKeyError\u001b[0m\u001b[1;33m(\u001b[0m\u001b[0mkey\u001b[0m\u001b[1;33m)\u001b[0m \u001b[1;32mfrom\u001b[0m \u001b[0merr\u001b[0m\u001b[1;33m\u001b[0m\u001b[1;33m\u001b[0m\u001b[0m\n\u001b[0m\u001b[0;32m   2898\u001b[0m \u001b[1;33m\u001b[0m\u001b[0m\n\u001b[0;32m   2899\u001b[0m         \u001b[1;32mif\u001b[0m \u001b[0mtolerance\u001b[0m \u001b[1;32mis\u001b[0m \u001b[1;32mnot\u001b[0m \u001b[1;32mNone\u001b[0m\u001b[1;33m:\u001b[0m\u001b[1;33m\u001b[0m\u001b[1;33m\u001b[0m\u001b[0m\n",
      "\u001b[1;31mKeyError\u001b[0m: 'Genre'"
     ]
    },
    {
     "data": {
      "image/png": "[encoded data removed]",
      "text/plain": [
       "<Figure size 1440x720 with 2 Axes>"
      ]
     },
     "metadata": {
      "needs_background": "light"
     },
     "output_type": "display_data"
    }
   ],
   "source": [
    "fig, (ax1, ax2) = plt.subplots(ncols=2, figsize=(20, 10))\n",
    "ax1.bar(\n",
    "    x=genre_rating_mean[\"Genre\"],\n",
    "    height=genre_rating_mean[\"averagerating\"],\n",
    "    alpha=0.3,\n",
    "    color='cyan'\n",
    ")\n",
    "\n",
    "ax1.set_xlabel(\"Genre\")\n",
    "ax1.set_ylabel(\"Mean User Rating\")\n",
    "ax1.set_title(\"Top 10 Genres With the Highest Mean Rating\")\n",
    "\n",
    "ax2.bar(\n",
    "    x=genre_rating_median[\"Genre\"],\n",
    "    height=genre_rating_median[\"averageraring\"],\n",
    "    alpha=0.3,\n",
    "    color='red'\n",
    ")\n",
    "\n",
    "ax2.set_xlabel(\"Genre\")\n",
    "ax2.set_ylabel(\"Median User Rating\")\n",
    "ax2.set_title(\"Top 10 Genres With the Highest Mean Rating\");"
   ]
  },
  {
   "cell_type": "code",
   "execution_count": null,
   "metadata": {},
   "outputs": [],
   "source": []
  },
  {
   "cell_type": "code",
   "execution_count": null,
   "metadata": {},
   "outputs": [],
   "source": [
    "genre_rating_median=genre_rating.groupby('Genre').median().sort_values(by=['averagerating'],ascending=False).head(10)\n",
    "genre_rating_median.plot.bar"
   ]
  },
  {
   "cell_type": "markdown",
   "metadata": {},
   "source": [
    "In this section we looked at which directors had the highest ratings. "
   ]
  },
  {
   "cell_type": "code",
   "execution_count": null,
   "metadata": {},
   "outputs": [],
   "source": []
  },
  {
   "cell_type": "code",
   "execution_count": null,
   "metadata": {},
   "outputs": [],
   "source": [
    "imdb_job=imdb[['primary_profession','primary_name','averagerating']]\n",
    "imdb_job[['Director','Director2','Director3']]=imdb_job.primary_profession.str.split(pat=',', n=- 1, expand=True)\n",
    "imdb_job_director=imdb_job[imdb_job['primary_profession'].str.contains('director')]\n",
    "imdb_job_director_name=imdb_job_director[['averagerating','primary_name']]\n",
    "imdb_job_director_name=imdb_job_director_name.groupby(['primary_name']).mean().sort_values('averagerating',ascending=False)\n",
    "imdb_job_director_name.head(10).plot()\n"
   ]
  },
  {
   "cell_type": "code",
   "execution_count": null,
   "metadata": {},
   "outputs": [],
   "source": []
  },
  {
   "cell_type": "code",
   "execution_count": null,
   "metadata": {},
   "outputs": [],
   "source": []
  },
  {
   "cell_type": "code",
   "execution_count": null,
   "metadata": {},
   "outputs": [],
   "source": []
  }
 ],
 "metadata": {
  "kernelspec": {
   "display_name": "Python 3",
   "language": "python",
   "name": "python3"
  },
  "language_info": {
   "codemirror_mode": {
    "name": "ipython",
    "version": 3
   },
   "file_extension": ".py",
   "mimetype": "text/x-python",
   "name": "python",
   "nbconvert_exporter": "python",
   "pygments_lexer": "ipython3",
   "version": "3.8.5"
  }
 },
 "nbformat": 4,
 "nbformat_minor": 5
}
