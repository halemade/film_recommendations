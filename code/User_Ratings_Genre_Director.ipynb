{
 "cells": [
  {
   "cell_type": "markdown",
   "metadata": {},
   "source": [
    "<H1> Importing and Exploring Provided Datasets </H1>"
   ]
  },
  {
   "cell_type": "markdown",
   "metadata": {},
   "source": [
    "<H4> Import the necessary packages.</H4>"
   ]
  },
  {
   "cell_type": "code",
   "execution_count": 3,
   "metadata": {},
   "outputs": [],
   "source": [
    "import pandas as pd\n",
    "import sqlite3\n",
    "import matplotlib.pyplot as plt\n",
    "%matplotlib inline\n",
    "import seaborn as sns\n",
    "import numpy as np"
   ]
  },
  {
   "cell_type": "markdown",
   "metadata": {},
   "source": [
    "*Bring in the file names for easy access.*"
   ]
  },
  {
   "cell_type": "code",
   "execution_count": 7,
   "metadata": {},
   "outputs": [],
   "source": [
    "zippedData = ['bom.movie_gross.csv.gz','imdb.name.basics.csv.gz','imdb.title.akas.csv.gz',\n",
    "              'imdb.title.basics.csv.gz','imdb.title.crew.csv.gz',\n",
    "              'imdb.title.principals.csv.gz','imdb.title.ratings.csv.gz',\n",
    "              'rt.movie_info.tsv.gz','rt.reviews.tsv.gz','tmdb.movies.csv.gz',\n",
    "              'tn.movie_budgets.csv.gz']"
   ]
  },
  {
   "cell_type": "code",
   "execution_count": 8,
   "metadata": {},
   "outputs": [],
   "source": [
    "bom_movie_gross = pd.read_csv(\"zippedData/{}\".format(zippedData[0]))\n",
    "imdb_name = pd.read_csv(\"zippedData/{}\".format(zippedData[1]))\n",
    "imdb_title_aka = pd.read_csv(\"zippedData/{}\".format(zippedData[2]))\n",
    "imdb_title_basics = pd.read_csv(\"zippedData/{}\".format(zippedData[3]))\n",
    "imdb_title_crew = pd.read_csv(\"zippedData/{}\".format(zippedData[4]))\n",
    "imdb_title_principals = pd.read_csv(\"zippedData/{}\".format(zippedData[5]))\n",
    "imdb_title_rating = pd.read_csv(\"zippedData/{}\".format(zippedData[6]))\n",
    "rt_movie_info = pd.read_csv(\"zippedData/{}\".format(zippedData[7]),sep='\\t')\n",
    "df8 = pd.read_csv(\"zippedData/{}\".format(zippedData[8]),sep='\\t',encoding='latin1')\n",
    "tmdb_movies = pd.read_csv(\"zippedData/{}\".format(zippedData[9]))\n",
    "tn_movie_budget = pd.read_csv(\"zippedData/{}\".format(zippedData[10]))"
   ]
  },
  {
   "cell_type": "markdown",
   "metadata": {},
   "source": [
    "In this section we combined a few IMDB mini dataframes to make one joint one. Using this dataframe, we were able to explore which genres held the highest ratings in the last 20 years, and which directors have high ratings. "
   ]
  },
  {
   "cell_type": "markdown",
   "metadata": {},
   "source": [
    "First, we merged the data sets."
   ]
  },
  {
   "cell_type": "code",
   "execution_count": 80,
   "metadata": {},
   "outputs": [
    {
     "data": {
      "text/html": [
       "<div>\n",
       "<style scoped>\n",
       "    .dataframe tbody tr th:only-of-type {\n",
       "        vertical-align: middle;\n",
       "    }\n",
       "\n",
       "    .dataframe tbody tr th {\n",
       "        vertical-align: top;\n",
       "    }\n",
       "\n",
       "    .dataframe thead th {\n",
       "        text-align: right;\n",
       "    }\n",
       "</style>\n",
       "<table border=\"1\" class=\"dataframe\">\n",
       "  <thead>\n",
       "    <tr style=\"text-align: right;\">\n",
       "      <th></th>\n",
       "      <th>tconst</th>\n",
       "      <th>averagerating</th>\n",
       "      <th>numvotes</th>\n",
       "      <th>ordering</th>\n",
       "      <th>nconst</th>\n",
       "      <th>category</th>\n",
       "      <th>job</th>\n",
       "      <th>characters</th>\n",
       "      <th>primary_title</th>\n",
       "      <th>original_title</th>\n",
       "      <th>start_year</th>\n",
       "      <th>runtime_minutes</th>\n",
       "      <th>genres</th>\n",
       "      <th>primary_name</th>\n",
       "      <th>birth_year</th>\n",
       "      <th>death_year</th>\n",
       "      <th>primary_profession</th>\n",
       "      <th>known_for_titles</th>\n",
       "      <th>directors</th>\n",
       "      <th>writers</th>\n",
       "    </tr>\n",
       "  </thead>\n",
       "  <tbody>\n",
       "    <tr>\n",
       "      <th>0</th>\n",
       "      <td>tt10356526</td>\n",
       "      <td>8.3</td>\n",
       "      <td>31</td>\n",
       "      <td>10</td>\n",
       "      <td>nm8994524</td>\n",
       "      <td>production_designer</td>\n",
       "      <td>NaN</td>\n",
       "      <td>NaN</td>\n",
       "      <td>Laiye Je Yaarian</td>\n",
       "      <td>Laiye Je Yaarian</td>\n",
       "      <td>2019</td>\n",
       "      <td>117.0</td>\n",
       "      <td>Romance</td>\n",
       "      <td>Kazi Rafik Ali</td>\n",
       "      <td>NaN</td>\n",
       "      <td>NaN</td>\n",
       "      <td>production_designer,art_department</td>\n",
       "      <td>tt9190740,tt2837596,tt4773212,tt8749962</td>\n",
       "      <td>nm8353804</td>\n",
       "      <td>nm3057599,nm4179342</td>\n",
       "    </tr>\n",
       "    <tr>\n",
       "      <th>1</th>\n",
       "      <td>tt10356526</td>\n",
       "      <td>8.3</td>\n",
       "      <td>31</td>\n",
       "      <td>1</td>\n",
       "      <td>nm4718369</td>\n",
       "      <td>actor</td>\n",
       "      <td>NaN</td>\n",
       "      <td>[\"Sukh\"]</td>\n",
       "      <td>Laiye Je Yaarian</td>\n",
       "      <td>Laiye Je Yaarian</td>\n",
       "      <td>2019</td>\n",
       "      <td>117.0</td>\n",
       "      <td>Romance</td>\n",
       "      <td>Harish Verma</td>\n",
       "      <td>NaN</td>\n",
       "      <td>NaN</td>\n",
       "      <td>actor</td>\n",
       "      <td>tt3265542,tt7246718,tt8108168,tt3331954</td>\n",
       "      <td>nm8353804</td>\n",
       "      <td>nm3057599,nm4179342</td>\n",
       "    </tr>\n",
       "    <tr>\n",
       "      <th>2</th>\n",
       "      <td>tt10356526</td>\n",
       "      <td>8.3</td>\n",
       "      <td>31</td>\n",
       "      <td>2</td>\n",
       "      <td>nm10007357</td>\n",
       "      <td>actress</td>\n",
       "      <td>NaN</td>\n",
       "      <td>[\"Raunak\"]</td>\n",
       "      <td>Laiye Je Yaarian</td>\n",
       "      <td>Laiye Je Yaarian</td>\n",
       "      <td>2019</td>\n",
       "      <td>117.0</td>\n",
       "      <td>Romance</td>\n",
       "      <td>Roopi Gill</td>\n",
       "      <td>NaN</td>\n",
       "      <td>NaN</td>\n",
       "      <td>actress</td>\n",
       "      <td>tt8749962,tt9260244,tt8785138</td>\n",
       "      <td>nm8353804</td>\n",
       "      <td>nm3057599,nm4179342</td>\n",
       "    </tr>\n",
       "    <tr>\n",
       "      <th>3</th>\n",
       "      <td>tt10356526</td>\n",
       "      <td>8.3</td>\n",
       "      <td>31</td>\n",
       "      <td>3</td>\n",
       "      <td>nm8743259</td>\n",
       "      <td>actress</td>\n",
       "      <td>NaN</td>\n",
       "      <td>[\"Jaanpreet\"]</td>\n",
       "      <td>Laiye Je Yaarian</td>\n",
       "      <td>Laiye Je Yaarian</td>\n",
       "      <td>2019</td>\n",
       "      <td>117.0</td>\n",
       "      <td>Romance</td>\n",
       "      <td>Rubina Bajwa</td>\n",
       "      <td>NaN</td>\n",
       "      <td>NaN</td>\n",
       "      <td>actress</td>\n",
       "      <td>tt8125398,tt7897324,tt10081104,tt6476532</td>\n",
       "      <td>nm8353804</td>\n",
       "      <td>nm3057599,nm4179342</td>\n",
       "    </tr>\n",
       "    <tr>\n",
       "      <th>4</th>\n",
       "      <td>tt10356526</td>\n",
       "      <td>8.3</td>\n",
       "      <td>31</td>\n",
       "      <td>4</td>\n",
       "      <td>nm3760302</td>\n",
       "      <td>actor</td>\n",
       "      <td>NaN</td>\n",
       "      <td>[\"Garry Randhawa\"]</td>\n",
       "      <td>Laiye Je Yaarian</td>\n",
       "      <td>Laiye Je Yaarian</td>\n",
       "      <td>2019</td>\n",
       "      <td>117.0</td>\n",
       "      <td>Romance</td>\n",
       "      <td>Amrinder Gill</td>\n",
       "      <td>NaN</td>\n",
       "      <td>NaN</td>\n",
       "      <td>actor,music_department,soundtrack</td>\n",
       "      <td>tt4846952,tt5569468,tt6882872,tt8749962</td>\n",
       "      <td>nm8353804</td>\n",
       "      <td>nm3057599,nm4179342</td>\n",
       "    </tr>\n",
       "  </tbody>\n",
       "</table>\n",
       "</div>"
      ],
      "text/plain": [
       "       tconst  averagerating  numvotes  ordering      nconst  \\\n",
       "0  tt10356526            8.3        31        10   nm8994524   \n",
       "1  tt10356526            8.3        31         1   nm4718369   \n",
       "2  tt10356526            8.3        31         2  nm10007357   \n",
       "3  tt10356526            8.3        31         3   nm8743259   \n",
       "4  tt10356526            8.3        31         4   nm3760302   \n",
       "\n",
       "              category  job          characters     primary_title  \\\n",
       "0  production_designer  NaN                 NaN  Laiye Je Yaarian   \n",
       "1                actor  NaN            [\"Sukh\"]  Laiye Je Yaarian   \n",
       "2              actress  NaN          [\"Raunak\"]  Laiye Je Yaarian   \n",
       "3              actress  NaN       [\"Jaanpreet\"]  Laiye Je Yaarian   \n",
       "4                actor  NaN  [\"Garry Randhawa\"]  Laiye Je Yaarian   \n",
       "\n",
       "     original_title  start_year  runtime_minutes   genres    primary_name  \\\n",
       "0  Laiye Je Yaarian        2019            117.0  Romance  Kazi Rafik Ali   \n",
       "1  Laiye Je Yaarian        2019            117.0  Romance    Harish Verma   \n",
       "2  Laiye Je Yaarian        2019            117.0  Romance      Roopi Gill   \n",
       "3  Laiye Je Yaarian        2019            117.0  Romance    Rubina Bajwa   \n",
       "4  Laiye Je Yaarian        2019            117.0  Romance   Amrinder Gill   \n",
       "\n",
       "   birth_year  death_year                  primary_profession  \\\n",
       "0         NaN         NaN  production_designer,art_department   \n",
       "1         NaN         NaN                               actor   \n",
       "2         NaN         NaN                             actress   \n",
       "3         NaN         NaN                             actress   \n",
       "4         NaN         NaN   actor,music_department,soundtrack   \n",
       "\n",
       "                           known_for_titles  directors              writers  \n",
       "0   tt9190740,tt2837596,tt4773212,tt8749962  nm8353804  nm3057599,nm4179342  \n",
       "1   tt3265542,tt7246718,tt8108168,tt3331954  nm8353804  nm3057599,nm4179342  \n",
       "2             tt8749962,tt9260244,tt8785138  nm8353804  nm3057599,nm4179342  \n",
       "3  tt8125398,tt7897324,tt10081104,tt6476532  nm8353804  nm3057599,nm4179342  \n",
       "4   tt4846952,tt5569468,tt6882872,tt8749962  nm8353804  nm3057599,nm4179342  "
      ]
     },
     "execution_count": 80,
     "metadata": {},
     "output_type": "execute_result"
    }
   ],
   "source": [
    "imdb=imdb_title_rating.merge(imdb_title_principals,on='tconst')\n",
    "imdb=imdb.merge(imdb_title_basics,on='tconst')\n",
    "imdb=imdb.merge(imdb_name,on='nconst')\n",
    "imdb=imdb.merge(imdb_title_crew,on='tconst')\n",
    "imdb.head()"
   ]
  },
  {
   "cell_type": "markdown",
   "metadata": {},
   "source": [
    "Next, we pulled the relevant columns, dropped duplicates and dropped mising values."
   ]
  },
  {
   "cell_type": "code",
   "execution_count": 74,
   "metadata": {},
   "outputs": [],
   "source": [
    "imdb=imdb[['original_title','genres','start_year','averagerating','category','primary_profession','primary_name']].where(imdb['start_year']>2000)\n",
    "imdb['original_title'].drop_duplicates(inplace=True)\n"
   ]
  },
  {
   "cell_type": "markdown",
   "metadata": {},
   "source": [
    "For the first question, which genres have the highest rating, we pulled the two columns that we needed: average rating and genres. "
   ]
  },
  {
   "cell_type": "code",
   "execution_count": 62,
   "metadata": {},
   "outputs": [
    {
     "data": {
      "text/html": [
       "<div>\n",
       "<style scoped>\n",
       "    .dataframe tbody tr th:only-of-type {\n",
       "        vertical-align: middle;\n",
       "    }\n",
       "\n",
       "    .dataframe tbody tr th {\n",
       "        vertical-align: top;\n",
       "    }\n",
       "\n",
       "    .dataframe thead th {\n",
       "        text-align: right;\n",
       "    }\n",
       "</style>\n",
       "<table border=\"1\" class=\"dataframe\">\n",
       "  <thead>\n",
       "    <tr style=\"text-align: right;\">\n",
       "      <th></th>\n",
       "      <th>genres</th>\n",
       "      <th>averagerating</th>\n",
       "      <th>primary_profession</th>\n",
       "      <th>primary_name</th>\n",
       "    </tr>\n",
       "  </thead>\n",
       "  <tbody>\n",
       "    <tr>\n",
       "      <th>0</th>\n",
       "      <td>Romance</td>\n",
       "      <td>8.3</td>\n",
       "      <td>production_designer,art_department</td>\n",
       "      <td>Kazi Rafik Ali</td>\n",
       "    </tr>\n",
       "    <tr>\n",
       "      <th>1</th>\n",
       "      <td>Romance</td>\n",
       "      <td>8.3</td>\n",
       "      <td>actor</td>\n",
       "      <td>Harish Verma</td>\n",
       "    </tr>\n",
       "    <tr>\n",
       "      <th>2</th>\n",
       "      <td>Romance</td>\n",
       "      <td>8.3</td>\n",
       "      <td>actress</td>\n",
       "      <td>Roopi Gill</td>\n",
       "    </tr>\n",
       "    <tr>\n",
       "      <th>3</th>\n",
       "      <td>Romance</td>\n",
       "      <td>8.3</td>\n",
       "      <td>actress</td>\n",
       "      <td>Rubina Bajwa</td>\n",
       "    </tr>\n",
       "    <tr>\n",
       "      <th>4</th>\n",
       "      <td>Romance</td>\n",
       "      <td>8.3</td>\n",
       "      <td>actor,music_department,soundtrack</td>\n",
       "      <td>Amrinder Gill</td>\n",
       "    </tr>\n",
       "  </tbody>\n",
       "</table>\n",
       "</div>"
      ],
      "text/plain": [
       "    genres  averagerating                  primary_profession    primary_name\n",
       "0  Romance            8.3  production_designer,art_department  Kazi Rafik Ali\n",
       "1  Romance            8.3                               actor    Harish Verma\n",
       "2  Romance            8.3                             actress      Roopi Gill\n",
       "3  Romance            8.3                             actress    Rubina Bajwa\n",
       "4  Romance            8.3   actor,music_department,soundtrack   Amrinder Gill"
      ]
     },
     "execution_count": 62,
     "metadata": {},
     "output_type": "execute_result"
    }
   ],
   "source": [
    "imdb_genre_rating=imdb[['genres','averagerating','primary_profession','primary_name']]\n",
    "imdb_genre_rating.head()"
   ]
  },
  {
   "cell_type": "markdown",
   "metadata": {},
   "source": [
    "Since some of the data in the genre column contained more than one genre, we had to split the column into three seperate columns and then return them into one column."
   ]
  },
  {
   "cell_type": "code",
   "execution_count": 79,
   "metadata": {},
   "outputs": [],
   "source": [
    "imdb_genre_rating[[\"One\",\"Two\",\"Three\"]]=imdb_genre_rating.genres.str.split(pat=',', n=- 1, expand=True)\n",
    "imdb_genre_rating_one=imdb_genre_rating[['One','averagerating']]\n",
    "imdb_genre_rating_two=imdb_genre_rating[['Two','averagerating']]    \n",
    "imdb_genre_rating_three=imdb_genre_rating[['Three','averagerating']]\n",
    "imdb_genre_rating_one=imdb_genre_rating_one.rename(columns={\"One\":\"Genre\"})\n",
    "imdb_genre_rating_two=imdb_genre_rating_two.rename(columns={\"Two\":\"Genre\"})\n",
    "imdb_genre_rating_three=imdb_genre_rating_three.rename(columns={\"Three\":\"Genre\"})\n",
    "genre_rating=pd.concat([imdb_genre_rating_three,imdb_genre_rating_two,imdb_genre_rating_one])\n",
    "genre_rating=genre_rating[['Genre','averagerating']]\n",
    "genre_rating.isnull().sum()\n",
    "genre_rating['Genre'].dropna(inplace=True)\n"
   ]
  },
  {
   "cell_type": "markdown",
   "metadata": {},
   "source": [
    "We dropped the genre catergories that weren't technically movies, and the ones that have a very low average rating. "
   ]
  },
  {
   "cell_type": "code",
   "execution_count": 58,
   "metadata": {},
   "outputs": [
    {
     "data": {
      "text/html": [
       "<div>\n",
       "<style scoped>\n",
       "    .dataframe tbody tr th:only-of-type {\n",
       "        vertical-align: middle;\n",
       "    }\n",
       "\n",
       "    .dataframe tbody tr th {\n",
       "        vertical-align: top;\n",
       "    }\n",
       "\n",
       "    .dataframe thead th {\n",
       "        text-align: right;\n",
       "    }\n",
       "</style>\n",
       "<table border=\"1\" class=\"dataframe\">\n",
       "  <thead>\n",
       "    <tr style=\"text-align: right;\">\n",
       "      <th></th>\n",
       "      <th>Genre</th>\n",
       "      <th>averagerating</th>\n",
       "    </tr>\n",
       "  </thead>\n",
       "  <tbody>\n",
       "    <tr>\n",
       "      <th>0</th>\n",
       "      <td>None</td>\n",
       "      <td>8.3</td>\n",
       "    </tr>\n",
       "    <tr>\n",
       "      <th>1</th>\n",
       "      <td>None</td>\n",
       "      <td>8.3</td>\n",
       "    </tr>\n",
       "    <tr>\n",
       "      <th>2</th>\n",
       "      <td>None</td>\n",
       "      <td>8.3</td>\n",
       "    </tr>\n",
       "    <tr>\n",
       "      <th>3</th>\n",
       "      <td>None</td>\n",
       "      <td>8.3</td>\n",
       "    </tr>\n",
       "    <tr>\n",
       "      <th>4</th>\n",
       "      <td>None</td>\n",
       "      <td>8.3</td>\n",
       "    </tr>\n",
       "    <tr>\n",
       "      <th>...</th>\n",
       "      <td>...</td>\n",
       "      <td>...</td>\n",
       "    </tr>\n",
       "    <tr>\n",
       "      <th>629585</th>\n",
       "      <td>Documentary</td>\n",
       "      <td>8.6</td>\n",
       "    </tr>\n",
       "    <tr>\n",
       "      <th>629594</th>\n",
       "      <td>Documentary</td>\n",
       "      <td>4.3</td>\n",
       "    </tr>\n",
       "    <tr>\n",
       "      <th>629595</th>\n",
       "      <td>Documentary</td>\n",
       "      <td>4.3</td>\n",
       "    </tr>\n",
       "    <tr>\n",
       "      <th>629596</th>\n",
       "      <td>Documentary</td>\n",
       "      <td>4.3</td>\n",
       "    </tr>\n",
       "    <tr>\n",
       "      <th>629597</th>\n",
       "      <td>Documentary</td>\n",
       "      <td>4.3</td>\n",
       "    </tr>\n",
       "  </tbody>\n",
       "</table>\n",
       "<p>1704062 rows × 2 columns</p>\n",
       "</div>"
      ],
      "text/plain": [
       "              Genre  averagerating\n",
       "0              None            8.3\n",
       "1              None            8.3\n",
       "2              None            8.3\n",
       "3              None            8.3\n",
       "4              None            8.3\n",
       "...             ...            ...\n",
       "629585  Documentary            8.6\n",
       "629594  Documentary            4.3\n",
       "629595  Documentary            4.3\n",
       "629596  Documentary            4.3\n",
       "629597  Documentary            4.3\n",
       "\n",
       "[1704062 rows x 2 columns]"
      ]
     },
     "execution_count": 58,
     "metadata": {},
     "output_type": "execute_result"
    }
   ],
   "source": [
    "genre_rating=genre_rating[genre_rating.Genre != 'Music']\n",
    "genre_rating=genre_rating[genre_rating.Genre != 'Reality-TV']\n",
    "genre_rating=genre_rating[genre_rating.Genre != 'News']\n",
    "genre_rating=genre_rating[genre_rating.Genre != 'Game-Show']\n",
    "genre_rating=genre_rating[genre_rating.Genre != 'Short']\n",
    "genre_rating=genre_rating[genre_rating.Genre != 'Horror']\n",
    "genre_rating=genre_rating[genre_rating.Genre != 'Western']\n",
    "genre_rating=genre_rating[genre_rating.Genre != 'Thriller']\n",
    "genre_rating=genre_rating[genre_rating.Genre != 'Sci-Fi']\n",
    "genre_rating=genre_rating[genre_rating.Genre != 'Adult']\n",
    "genre_rating"
   ]
  },
  {
   "cell_type": "markdown",
   "metadata": {},
   "source": [
    "Next, we plotted the median user rating of each genre."
   ]
  },
  {
   "cell_type": "code",
   "execution_count": 53,
   "metadata": {},
   "outputs": [
    {
     "data": {
      "image/png": "[encoded data removed]",
      "text/plain": [
       "<Figure size 432x288 with 1 Axes>"
      ]
     },
     "metadata": {
      "needs_background": "light"
     },
     "output_type": "display_data"
    }
   ],
   "source": [
    "from numpy import median\n",
    "ax3 = sns.barplot(x=\"averagerating\", y=\"Genre\", data=genre_rating, estimator=median)"
   ]
  },
  {
   "cell_type": "markdown",
   "metadata": {},
   "source": [
    "Next, we plotted the mean user rating of each genre."
   ]
  },
  {
   "cell_type": "code",
   "execution_count": 54,
   "metadata": {},
   "outputs": [
    {
     "data": {
      "image/png": "[encoded data removed]",
      "text/plain": [
       "<Figure size 432x288 with 1 Axes>"
      ]
     },
     "metadata": {
      "needs_background": "light"
     },
     "output_type": "display_data"
    }
   ],
   "source": [
    "from numpy import mean\n",
    "ax3 = sns.barplot(x=\"averagerating\", y=\"Genre\", data=genre_rating, estimator=mean)"
   ]
  },
  {
   "cell_type": "markdown",
   "metadata": {},
   "source": [
    "Next we looked at the overall distribution of the user ratings among the different genres "
   ]
  },
  {
   "cell_type": "code",
   "execution_count": 35,
   "metadata": {},
   "outputs": [
    {
     "data": {
      "text/plain": [
       "Text(0.5, 1.0, 'Distribution of User Rating in Each Genre ')"
      ]
     },
     "execution_count": 35,
     "metadata": {},
     "output_type": "execute_result"
    },
    {
     "data": {
      "image/png": "[encoded data removed]",
      "text/plain": [
       "<Figure size 432x288 with 1 Axes>"
      ]
     },
     "metadata": {
      "needs_background": "light"
     },
     "output_type": "display_data"
    }
   ],
   "source": [
    "ax= sns.boxplot(x=\"averagerating\",y=\"Genre\",data=genre_rating)\n",
    "ax.set_xlabel(\"User Rating\")\n",
    "ax.set_ylabel(\"Genres\")\n",
    "ax.set_title(\"Distribution of User Rating in Each Genre \")"
   ]
  },
  {
   "cell_type": "markdown",
   "metadata": {},
   "source": [
    "In this section we looked at which directors had the highest ratings. "
   ]
  },
  {
   "cell_type": "code",
   "execution_count": 76,
   "metadata": {},
   "outputs": [
    {
     "name": "stderr",
     "output_type": "stream",
     "text": [
      "C:\\Users\\weinb\\anaconda3\\envs\\learn-env\\lib\\site-packages\\pandas\\core\\frame.py:3065: SettingWithCopyWarning: \n",
      "A value is trying to be set on a copy of a slice from a DataFrame.\n",
      "Try using .loc[row_indexer,col_indexer] = value instead\n",
      "\n",
      "See the caveats in the documentation: https://pandas.pydata.org/pandas-docs/stable/user_guide/indexing.html#returning-a-view-versus-a-copy\n",
      "  self[k1] = value[k2]\n"
     ]
    },
    {
     "data": {
      "text/html": [
       "<div>\n",
       "<style scoped>\n",
       "    .dataframe tbody tr th:only-of-type {\n",
       "        vertical-align: middle;\n",
       "    }\n",
       "\n",
       "    .dataframe tbody tr th {\n",
       "        vertical-align: top;\n",
       "    }\n",
       "\n",
       "    .dataframe thead th {\n",
       "        text-align: right;\n",
       "    }\n",
       "</style>\n",
       "<table border=\"1\" class=\"dataframe\">\n",
       "  <thead>\n",
       "    <tr style=\"text-align: right;\">\n",
       "      <th></th>\n",
       "      <th>averagerating</th>\n",
       "    </tr>\n",
       "    <tr>\n",
       "      <th>primary_name</th>\n",
       "      <th></th>\n",
       "    </tr>\n",
       "  </thead>\n",
       "  <tbody>\n",
       "    <tr>\n",
       "      <th>Loreto Di Cesare</th>\n",
       "      <td>10.0</td>\n",
       "    </tr>\n",
       "    <tr>\n",
       "      <th>Ivana Diniz</th>\n",
       "      <td>10.0</td>\n",
       "    </tr>\n",
       "    <tr>\n",
       "      <th>Emre Oran</th>\n",
       "      <td>10.0</td>\n",
       "    </tr>\n",
       "    <tr>\n",
       "      <th>Chad Carpenter</th>\n",
       "      <td>10.0</td>\n",
       "    </tr>\n",
       "    <tr>\n",
       "      <th>Michiel Brongers</th>\n",
       "      <td>10.0</td>\n",
       "    </tr>\n",
       "    <tr>\n",
       "      <th>Masahiro Hayakawa</th>\n",
       "      <td>10.0</td>\n",
       "    </tr>\n",
       "    <tr>\n",
       "      <th>Aaron Barrett</th>\n",
       "      <td>10.0</td>\n",
       "    </tr>\n",
       "    <tr>\n",
       "      <th>Andrew Jezard</th>\n",
       "      <td>9.9</td>\n",
       "    </tr>\n",
       "    <tr>\n",
       "      <th>Raphael Sbarge</th>\n",
       "      <td>9.9</td>\n",
       "    </tr>\n",
       "    <tr>\n",
       "      <th>Nagaraja Uppunda</th>\n",
       "      <td>9.9</td>\n",
       "    </tr>\n",
       "  </tbody>\n",
       "</table>\n",
       "</div>"
      ],
      "text/plain": [
       "                   averagerating\n",
       "primary_name                    \n",
       "Loreto Di Cesare            10.0\n",
       "Ivana Diniz                 10.0\n",
       "Emre Oran                   10.0\n",
       "Chad Carpenter              10.0\n",
       "Michiel Brongers            10.0\n",
       "Masahiro Hayakawa           10.0\n",
       "Aaron Barrett               10.0\n",
       "Andrew Jezard                9.9\n",
       "Raphael Sbarge               9.9\n",
       "Nagaraja Uppunda             9.9"
      ]
     },
     "execution_count": 76,
     "metadata": {},
     "output_type": "execute_result"
    }
   ],
   "source": [
    "imdb_job=imdb[['primary_profession','primary_name','averagerating']]\n",
    "imdb_job[['Director','Director2','Director3']]=imdb_job.primary_profession.str.split(pat=',', n=- 1, expand=True)\n",
    "imdb_job_director=imdb_job[imdb_job['primary_profession'].str.contains('director')]\n",
    "imdb_job_director_name=imdb_job_director[['averagerating','primary_name']]\n",
    "imdb_job_director_name=imdb_job_director_name.groupby(['primary_name']).mean().sort_values('averagerating',ascending=False)\n",
    "imdb_job_director_name.head(10)\n"
   ]
  },
  {
   "cell_type": "code",
   "execution_count": null,
   "metadata": {},
   "outputs": [],
   "source": []
  },
  {
   "cell_type": "code",
   "execution_count": null,
   "metadata": {},
   "outputs": [],
   "source": []
  },
  {
   "cell_type": "code",
   "execution_count": null,
   "metadata": {},
   "outputs": [],
   "source": []
  }
 ],
 "metadata": {
  "kernelspec": {
   "display_name": "Python 3",
   "language": "python",
   "name": "python3"
  },
  "language_info": {
   "codemirror_mode": {
    "name": "ipython",
    "version": 3
   },
   "file_extension": ".py",
   "mimetype": "text/x-python",
   "name": "python",
   "nbconvert_exporter": "python",
   "pygments_lexer": "ipython3",
   "version": "3.8.5"
  }
 },
 "nbformat": 4,
 "nbformat_minor": 5
}
