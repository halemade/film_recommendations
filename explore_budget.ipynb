{
 "cells": [
  {
   "cell_type": "code",
   "execution_count": 41,
   "id": "8416080c",
   "metadata": {},
   "outputs": [],
   "source": [
    "import pandas as pd\n",
    "import sqlite3\n",
    "import datetime\n",
    "import matplotlib.pyplot as plt\n",
    "%matplotlib inline\n",
    "import numpy as np"
   ]
  },
  {
   "cell_type": "code",
   "execution_count": 2,
   "id": "7a407d48",
   "metadata": {},
   "outputs": [
    {
     "data": {
      "text/html": [
       "<div>\n",
       "<style scoped>\n",
       "    .dataframe tbody tr th:only-of-type {\n",
       "        vertical-align: middle;\n",
       "    }\n",
       "\n",
       "    .dataframe tbody tr th {\n",
       "        vertical-align: top;\n",
       "    }\n",
       "\n",
       "    .dataframe thead th {\n",
       "        text-align: right;\n",
       "    }\n",
       "</style>\n",
       "<table border=\"1\" class=\"dataframe\">\n",
       "  <thead>\n",
       "    <tr style=\"text-align: right;\">\n",
       "      <th></th>\n",
       "      <th>id</th>\n",
       "      <th>release_date</th>\n",
       "      <th>movie</th>\n",
       "      <th>production_budget</th>\n",
       "      <th>domestic_gross</th>\n",
       "      <th>worldwide_gross</th>\n",
       "    </tr>\n",
       "  </thead>\n",
       "  <tbody>\n",
       "    <tr>\n",
       "      <th>0</th>\n",
       "      <td>1</td>\n",
       "      <td>Dec 18, 2009</td>\n",
       "      <td>Avatar</td>\n",
       "      <td>$425,000,000</td>\n",
       "      <td>$760,507,625</td>\n",
       "      <td>$2,776,345,279</td>\n",
       "    </tr>\n",
       "    <tr>\n",
       "      <th>1</th>\n",
       "      <td>2</td>\n",
       "      <td>May 20, 2011</td>\n",
       "      <td>Pirates of the Caribbean: On Stranger Tides</td>\n",
       "      <td>$410,600,000</td>\n",
       "      <td>$241,063,875</td>\n",
       "      <td>$1,045,663,875</td>\n",
       "    </tr>\n",
       "    <tr>\n",
       "      <th>2</th>\n",
       "      <td>3</td>\n",
       "      <td>Jun 7, 2019</td>\n",
       "      <td>Dark Phoenix</td>\n",
       "      <td>$350,000,000</td>\n",
       "      <td>$42,762,350</td>\n",
       "      <td>$149,762,350</td>\n",
       "    </tr>\n",
       "    <tr>\n",
       "      <th>3</th>\n",
       "      <td>4</td>\n",
       "      <td>May 1, 2015</td>\n",
       "      <td>Avengers: Age of Ultron</td>\n",
       "      <td>$330,600,000</td>\n",
       "      <td>$459,005,868</td>\n",
       "      <td>$1,403,013,963</td>\n",
       "    </tr>\n",
       "    <tr>\n",
       "      <th>4</th>\n",
       "      <td>5</td>\n",
       "      <td>Dec 15, 2017</td>\n",
       "      <td>Star Wars Ep. VIII: The Last Jedi</td>\n",
       "      <td>$317,000,000</td>\n",
       "      <td>$620,181,382</td>\n",
       "      <td>$1,316,721,747</td>\n",
       "    </tr>\n",
       "  </tbody>\n",
       "</table>\n",
       "</div>"
      ],
      "text/plain": [
       "   id  release_date                                        movie  \\\n",
       "0   1  Dec 18, 2009                                       Avatar   \n",
       "1   2  May 20, 2011  Pirates of the Caribbean: On Stranger Tides   \n",
       "2   3   Jun 7, 2019                                 Dark Phoenix   \n",
       "3   4   May 1, 2015                      Avengers: Age of Ultron   \n",
       "4   5  Dec 15, 2017            Star Wars Ep. VIII: The Last Jedi   \n",
       "\n",
       "  production_budget domestic_gross worldwide_gross  \n",
       "0      $425,000,000   $760,507,625  $2,776,345,279  \n",
       "1      $410,600,000   $241,063,875  $1,045,663,875  \n",
       "2      $350,000,000    $42,762,350    $149,762,350  \n",
       "3      $330,600,000   $459,005,868  $1,403,013,963  \n",
       "4      $317,000,000   $620,181,382  $1,316,721,747  "
      ]
     },
     "execution_count": 2,
     "metadata": {},
     "output_type": "execute_result"
    }
   ],
   "source": [
    "df = pd.read_csv(\"zippedData/{}\".format('tn.movie_budgets.csv.gz'))\n",
    "df.head()"
   ]
  },
  {
   "cell_type": "code",
   "execution_count": 3,
   "id": "65aa1b3d",
   "metadata": {},
   "outputs": [
    {
     "name": "stdout",
     "output_type": "stream",
     "text": [
      "<class 'pandas.core.frame.DataFrame'>\n",
      "RangeIndex: 5782 entries, 0 to 5781\n",
      "Data columns (total 6 columns):\n",
      " #   Column             Non-Null Count  Dtype \n",
      "---  ------             --------------  ----- \n",
      " 0   id                 5782 non-null   int64 \n",
      " 1   release_date       5782 non-null   object\n",
      " 2   movie              5782 non-null   object\n",
      " 3   production_budget  5782 non-null   object\n",
      " 4   domestic_gross     5782 non-null   object\n",
      " 5   worldwide_gross    5782 non-null   object\n",
      "dtypes: int64(1), object(5)\n",
      "memory usage: 271.2+ KB\n"
     ]
    }
   ],
   "source": [
    "df.info()"
   ]
  },
  {
   "cell_type": "code",
   "execution_count": 4,
   "id": "65baf13d",
   "metadata": {},
   "outputs": [],
   "source": [
    "#formatting columns into workable/relevant types"
   ]
  },
  {
   "cell_type": "code",
   "execution_count": 5,
   "id": "3184a38b",
   "metadata": {},
   "outputs": [],
   "source": [
    "df['release_date'] = pd.to_datetime(df['release_date'], format='%b %d, %Y')"
   ]
  },
  {
   "cell_type": "code",
   "execution_count": 6,
   "id": "dfd51e26",
   "metadata": {},
   "outputs": [],
   "source": [
    "df['production_budget'] = df['production_budget'].replace('[\\$,]', '', regex=True).astype(float)"
   ]
  },
  {
   "cell_type": "code",
   "execution_count": 7,
   "id": "a7ba66a8",
   "metadata": {},
   "outputs": [],
   "source": [
    "df['domestic_gross'] = df['domestic_gross'].replace('[\\$,]', '', regex=True).astype(float)"
   ]
  },
  {
   "cell_type": "code",
   "execution_count": 8,
   "id": "f06bcf12",
   "metadata": {},
   "outputs": [],
   "source": [
    "df['worldwide_gross'] = df['worldwide_gross'].replace('[\\$,]', '', regex=True).astype(float)"
   ]
  },
  {
   "cell_type": "code",
   "execution_count": 9,
   "id": "eaf5d8f0",
   "metadata": {},
   "outputs": [
    {
     "name": "stdout",
     "output_type": "stream",
     "text": [
      "<class 'pandas.core.frame.DataFrame'>\n",
      "RangeIndex: 5782 entries, 0 to 5781\n",
      "Data columns (total 6 columns):\n",
      " #   Column             Non-Null Count  Dtype         \n",
      "---  ------             --------------  -----         \n",
      " 0   id                 5782 non-null   int64         \n",
      " 1   release_date       5782 non-null   datetime64[ns]\n",
      " 2   movie              5782 non-null   object        \n",
      " 3   production_budget  5782 non-null   float64       \n",
      " 4   domestic_gross     5782 non-null   float64       \n",
      " 5   worldwide_gross    5782 non-null   float64       \n",
      "dtypes: datetime64[ns](1), float64(3), int64(1), object(1)\n",
      "memory usage: 271.2+ KB\n"
     ]
    }
   ],
   "source": [
    "df.info()"
   ]
  },
  {
   "cell_type": "code",
   "execution_count": 10,
   "id": "c385bd60",
   "metadata": {},
   "outputs": [
    {
     "name": "stdout",
     "output_type": "stream",
     "text": [
      "<class 'pandas.core.frame.DataFrame'>\n",
      "Int64Index: 4387 entries, 0 to 5781\n",
      "Data columns (total 6 columns):\n",
      " #   Column             Non-Null Count  Dtype         \n",
      "---  ------             --------------  -----         \n",
      " 0   id                 4387 non-null   int64         \n",
      " 1   release_date       4387 non-null   datetime64[ns]\n",
      " 2   movie              4387 non-null   object        \n",
      " 3   production_budget  4387 non-null   float64       \n",
      " 4   domestic_gross     4387 non-null   float64       \n",
      " 5   worldwide_gross    4387 non-null   float64       \n",
      "dtypes: datetime64[ns](1), float64(3), int64(1), object(1)\n",
      "memory usage: 239.9+ KB\n"
     ]
    }
   ],
   "source": [
    "#filter out old movies\n",
    "df_recent = df[df['release_date'] >= datetime.datetime(2000, 1, 1)]\n",
    "df_recent.info()"
   ]
  },
  {
   "cell_type": "code",
   "execution_count": 11,
   "id": "f28b377f",
   "metadata": {},
   "outputs": [
    {
     "data": {
      "text/plain": [
       "mean      3.450823e+07\n",
       "median    1.800000e+07\n",
       "std       4.550905e+07\n",
       "Name: production_budget, dtype: float64"
      ]
     },
     "execution_count": 11,
     "metadata": {},
     "output_type": "execute_result"
    }
   ],
   "source": [
    "#analyze budget stats\n",
    "df_recent['production_budget'].agg(['mean','median','std'])"
   ]
  },
  {
   "cell_type": "code",
   "execution_count": 12,
   "id": "6862ca67",
   "metadata": {},
   "outputs": [
    {
     "data": {
      "text/plain": [
       "1100.0"
      ]
     },
     "execution_count": 12,
     "metadata": {},
     "output_type": "execute_result"
    }
   ],
   "source": [
    "min(df_recent['production_budget'])"
   ]
  },
  {
   "cell_type": "code",
   "execution_count": 13,
   "id": "6fbcc5f9",
   "metadata": {},
   "outputs": [],
   "source": [
    "#lower limit of production budget (flexible)\n",
    "df_recent = df_recent[df_recent['production_budget'] >= 1000000]"
   ]
  },
  {
   "cell_type": "code",
   "execution_count": 14,
   "id": "adb9ba8f",
   "metadata": {},
   "outputs": [],
   "source": [
    "#create 'roi' column\n",
    "df_recent['roi'] = ((df_recent['worldwide_gross'] - df_recent['production_budget'])/df_recent['production_budget'])*100"
   ]
  },
  {
   "cell_type": "code",
   "execution_count": 15,
   "id": "3731890b",
   "metadata": {},
   "outputs": [
    {
     "name": "stdout",
     "output_type": "stream",
     "text": [
      "<class 'pandas.core.frame.DataFrame'>\n",
      "Int64Index: 4032 entries, 0 to 5325\n",
      "Data columns (total 7 columns):\n",
      " #   Column             Non-Null Count  Dtype         \n",
      "---  ------             --------------  -----         \n",
      " 0   id                 4032 non-null   int64         \n",
      " 1   release_date       4032 non-null   datetime64[ns]\n",
      " 2   movie              4032 non-null   object        \n",
      " 3   production_budget  4032 non-null   float64       \n",
      " 4   domestic_gross     4032 non-null   float64       \n",
      " 5   worldwide_gross    4032 non-null   float64       \n",
      " 6   roi                4032 non-null   float64       \n",
      "dtypes: datetime64[ns](1), float64(4), int64(1), object(1)\n",
      "memory usage: 252.0+ KB\n"
     ]
    }
   ],
   "source": [
    "df_recent.info()"
   ]
  },
  {
   "cell_type": "code",
   "execution_count": 16,
   "id": "00f598f5",
   "metadata": {},
   "outputs": [
    {
     "data": {
      "text/html": [
       "<div>\n",
       "<style scoped>\n",
       "    .dataframe tbody tr th:only-of-type {\n",
       "        vertical-align: middle;\n",
       "    }\n",
       "\n",
       "    .dataframe tbody tr th {\n",
       "        vertical-align: top;\n",
       "    }\n",
       "\n",
       "    .dataframe thead th {\n",
       "        text-align: right;\n",
       "    }\n",
       "</style>\n",
       "<table border=\"1\" class=\"dataframe\">\n",
       "  <thead>\n",
       "    <tr style=\"text-align: right;\">\n",
       "      <th></th>\n",
       "      <th>id</th>\n",
       "      <th>release_date</th>\n",
       "      <th>movie</th>\n",
       "      <th>production_budget</th>\n",
       "      <th>domestic_gross</th>\n",
       "      <th>worldwide_gross</th>\n",
       "      <th>roi</th>\n",
       "    </tr>\n",
       "  </thead>\n",
       "  <tbody>\n",
       "    <tr>\n",
       "      <th>0</th>\n",
       "      <td>1</td>\n",
       "      <td>2009-12-18</td>\n",
       "      <td>Avatar</td>\n",
       "      <td>425000000.0</td>\n",
       "      <td>760507625.0</td>\n",
       "      <td>2.776345e+09</td>\n",
       "      <td>553.257713</td>\n",
       "    </tr>\n",
       "    <tr>\n",
       "      <th>1</th>\n",
       "      <td>2</td>\n",
       "      <td>2011-05-20</td>\n",
       "      <td>Pirates of the Caribbean: On Stranger Tides</td>\n",
       "      <td>410600000.0</td>\n",
       "      <td>241063875.0</td>\n",
       "      <td>1.045664e+09</td>\n",
       "      <td>154.667286</td>\n",
       "    </tr>\n",
       "    <tr>\n",
       "      <th>2</th>\n",
       "      <td>3</td>\n",
       "      <td>2019-06-07</td>\n",
       "      <td>Dark Phoenix</td>\n",
       "      <td>350000000.0</td>\n",
       "      <td>42762350.0</td>\n",
       "      <td>1.497624e+08</td>\n",
       "      <td>-57.210757</td>\n",
       "    </tr>\n",
       "    <tr>\n",
       "      <th>3</th>\n",
       "      <td>4</td>\n",
       "      <td>2015-05-01</td>\n",
       "      <td>Avengers: Age of Ultron</td>\n",
       "      <td>330600000.0</td>\n",
       "      <td>459005868.0</td>\n",
       "      <td>1.403014e+09</td>\n",
       "      <td>324.384139</td>\n",
       "    </tr>\n",
       "    <tr>\n",
       "      <th>4</th>\n",
       "      <td>5</td>\n",
       "      <td>2017-12-15</td>\n",
       "      <td>Star Wars Ep. VIII: The Last Jedi</td>\n",
       "      <td>317000000.0</td>\n",
       "      <td>620181382.0</td>\n",
       "      <td>1.316722e+09</td>\n",
       "      <td>315.369636</td>\n",
       "    </tr>\n",
       "  </tbody>\n",
       "</table>\n",
       "</div>"
      ],
      "text/plain": [
       "   id release_date                                        movie  \\\n",
       "0   1   2009-12-18                                       Avatar   \n",
       "1   2   2011-05-20  Pirates of the Caribbean: On Stranger Tides   \n",
       "2   3   2019-06-07                                 Dark Phoenix   \n",
       "3   4   2015-05-01                      Avengers: Age of Ultron   \n",
       "4   5   2017-12-15            Star Wars Ep. VIII: The Last Jedi   \n",
       "\n",
       "   production_budget  domestic_gross  worldwide_gross         roi  \n",
       "0        425000000.0     760507625.0     2.776345e+09  553.257713  \n",
       "1        410600000.0     241063875.0     1.045664e+09  154.667286  \n",
       "2        350000000.0      42762350.0     1.497624e+08  -57.210757  \n",
       "3        330600000.0     459005868.0     1.403014e+09  324.384139  \n",
       "4        317000000.0     620181382.0     1.316722e+09  315.369636  "
      ]
     },
     "execution_count": 16,
     "metadata": {},
     "output_type": "execute_result"
    }
   ],
   "source": [
    "df_recent.head()"
   ]
  },
  {
   "cell_type": "code",
   "execution_count": 17,
   "id": "e2609728",
   "metadata": {},
   "outputs": [],
   "source": [
    "#remove films with $0 gross sales (outlier or input error)\n",
    "df_recent = df_recent[df_recent['roi'] != -100]"
   ]
  },
  {
   "cell_type": "code",
   "execution_count": 18,
   "id": "d7a08821",
   "metadata": {},
   "outputs": [
    {
     "data": {
      "text/plain": [
       "<matplotlib.collections.PathCollection at 0x1dce25c1490>"
      ]
     },
     "execution_count": 18,
     "metadata": {},
     "output_type": "execute_result"
    },
    {
     "data": {
      "image/png": "[encoded data removed]",
      "text/plain": [
       "<Figure size 432x288 with 1 Axes>"
      ]
     },
     "metadata": {
      "needs_background": "light"
     },
     "output_type": "display_data"
    }
   ],
   "source": [
    "fig, ax = plt.subplots()\n",
    "ax.scatter(df_recent['production_budget'], df_recent['roi'])"
   ]
  },
  {
   "cell_type": "code",
   "execution_count": 19,
   "id": "fe38db2c",
   "metadata": {},
   "outputs": [
    {
     "data": {
      "text/plain": [
       "array([[ 1.        , -0.03747815],\n",
       "       [-0.03747815,  1.        ]])"
      ]
     },
     "execution_count": 19,
     "metadata": {},
     "output_type": "execute_result"
    }
   ],
   "source": [
    "import numpy as np\n",
    "np.corrcoef(df_recent['production_budget'], df_recent['roi'])"
   ]
  },
  {
   "cell_type": "code",
   "execution_count": 20,
   "id": "a83f9fc1",
   "metadata": {},
   "outputs": [],
   "source": [
    "#analyzing by 5 year periods\n",
    "df_recent1 = df_recent[(df_recent['release_date'] >= datetime.datetime(2000, 1, 1)) & (df_recent['release_date'] < datetime.datetime(2005, 1, 1))]\n",
    "df_recent2 = df_recent[(df_recent['release_date'] >= datetime.datetime(2005, 1, 1)) & (df_recent['release_date'] < datetime.datetime(2010, 1, 1))]\n",
    "df_recent3 = df_recent[(df_recent['release_date'] >= datetime.datetime(2010, 1, 1)) & (df_recent['release_date'] < datetime.datetime(2015, 1, 1))]\n",
    "df_recent4 = df_recent[(df_recent['release_date'] >= datetime.datetime(2015, 1, 1)) & (df_recent['release_date'] < datetime.datetime(2020, 1, 1))]"
   ]
  },
  {
   "cell_type": "code",
   "execution_count": 21,
   "id": "e3ef2fa8",
   "metadata": {},
   "outputs": [
    {
     "data": {
      "text/plain": [
       "array([[ 1.        , -0.07051316],\n",
       "       [-0.07051316,  1.        ]])"
      ]
     },
     "execution_count": 21,
     "metadata": {},
     "output_type": "execute_result"
    }
   ],
   "source": [
    "np.corrcoef(df_recent1['production_budget'], df_recent1['roi'])"
   ]
  },
  {
   "cell_type": "code",
   "execution_count": 22,
   "id": "8b3750de",
   "metadata": {},
   "outputs": [
    {
     "data": {
      "text/plain": [
       "array([[ 1.      , -0.023167],\n",
       "       [-0.023167,  1.      ]])"
      ]
     },
     "execution_count": 22,
     "metadata": {},
     "output_type": "execute_result"
    }
   ],
   "source": [
    "np.corrcoef(df_recent2['production_budget'], df_recent2['roi'])"
   ]
  },
  {
   "cell_type": "code",
   "execution_count": 23,
   "id": "393b63a2",
   "metadata": {},
   "outputs": [
    {
     "data": {
      "text/plain": [
       "array([[ 1.        , -0.04675453],\n",
       "       [-0.04675453,  1.        ]])"
      ]
     },
     "execution_count": 23,
     "metadata": {},
     "output_type": "execute_result"
    }
   ],
   "source": [
    "np.corrcoef(df_recent3['production_budget'], df_recent3['roi'])"
   ]
  },
  {
   "cell_type": "code",
   "execution_count": 24,
   "id": "3769b909",
   "metadata": {},
   "outputs": [
    {
     "data": {
      "text/plain": [
       "array([[ 1.        , -0.04017585],\n",
       "       [-0.04017585,  1.        ]])"
      ]
     },
     "execution_count": 24,
     "metadata": {},
     "output_type": "execute_result"
    }
   ],
   "source": [
    "np.corrcoef(df_recent4['production_budget'], df_recent4['roi'])"
   ]
  },
  {
   "cell_type": "code",
   "execution_count": 25,
   "id": "ec59de0d",
   "metadata": {},
   "outputs": [],
   "source": [
    "#high budget films\n",
    "df_high = df_recent[df_recent['production_budget'] >= 100000000]"
   ]
  },
  {
   "cell_type": "code",
   "execution_count": 26,
   "id": "6cc8573f",
   "metadata": {},
   "outputs": [
    {
     "name": "stdout",
     "output_type": "stream",
     "text": [
      "<class 'pandas.core.frame.DataFrame'>\n",
      "Int64Index: 383 entries, 0 to 405\n",
      "Data columns (total 7 columns):\n",
      " #   Column             Non-Null Count  Dtype         \n",
      "---  ------             --------------  -----         \n",
      " 0   id                 383 non-null    int64         \n",
      " 1   release_date       383 non-null    datetime64[ns]\n",
      " 2   movie              383 non-null    object        \n",
      " 3   production_budget  383 non-null    float64       \n",
      " 4   domestic_gross     383 non-null    float64       \n",
      " 5   worldwide_gross    383 non-null    float64       \n",
      " 6   roi                383 non-null    float64       \n",
      "dtypes: datetime64[ns](1), float64(4), int64(1), object(1)\n",
      "memory usage: 23.9+ KB\n"
     ]
    }
   ],
   "source": [
    "df_high.info()"
   ]
  },
  {
   "cell_type": "code",
   "execution_count": 27,
   "id": "664cd896",
   "metadata": {},
   "outputs": [
    {
     "data": {
      "text/plain": [
       "array([[1.        , 0.14087923],\n",
       "       [0.14087923, 1.        ]])"
      ]
     },
     "execution_count": 27,
     "metadata": {},
     "output_type": "execute_result"
    }
   ],
   "source": [
    "np.corrcoef(df_high['production_budget'], df_high['roi'])"
   ]
  },
  {
   "cell_type": "code",
   "execution_count": 28,
   "id": "2009c4b8",
   "metadata": {},
   "outputs": [],
   "source": [
    "#medium budget films\n",
    "df_med = df_recent[(df_recent['production_budget'] >= 50000000) & (df_recent['production_budget'] < 100000000)]"
   ]
  },
  {
   "cell_type": "code",
   "execution_count": 29,
   "id": "3b63a42a",
   "metadata": {},
   "outputs": [
    {
     "name": "stdout",
     "output_type": "stream",
     "text": [
      "<class 'pandas.core.frame.DataFrame'>\n",
      "Int64Index: 615 entries, 406 to 1204\n",
      "Data columns (total 7 columns):\n",
      " #   Column             Non-Null Count  Dtype         \n",
      "---  ------             --------------  -----         \n",
      " 0   id                 615 non-null    int64         \n",
      " 1   release_date       615 non-null    datetime64[ns]\n",
      " 2   movie              615 non-null    object        \n",
      " 3   production_budget  615 non-null    float64       \n",
      " 4   domestic_gross     615 non-null    float64       \n",
      " 5   worldwide_gross    615 non-null    float64       \n",
      " 6   roi                615 non-null    float64       \n",
      "dtypes: datetime64[ns](1), float64(4), int64(1), object(1)\n",
      "memory usage: 38.4+ KB\n"
     ]
    }
   ],
   "source": [
    "df_med.info()"
   ]
  },
  {
   "cell_type": "code",
   "execution_count": 30,
   "id": "55b07c53",
   "metadata": {},
   "outputs": [
    {
     "data": {
      "text/plain": [
       "array([[1.       , 0.0664686],\n",
       "       [0.0664686, 1.       ]])"
      ]
     },
     "execution_count": 30,
     "metadata": {},
     "output_type": "execute_result"
    }
   ],
   "source": [
    "np.corrcoef(df_med['production_budget'], df_med['roi'])"
   ]
  },
  {
   "cell_type": "code",
   "execution_count": 31,
   "id": "202bfbf5",
   "metadata": {},
   "outputs": [],
   "source": [
    "#low budget films\n",
    "df_low = df_recent[(df_recent['production_budget'] >= 1000000) & (df_recent['production_budget'] < 50000000)]"
   ]
  },
  {
   "cell_type": "code",
   "execution_count": 32,
   "id": "55715946",
   "metadata": {},
   "outputs": [
    {
     "name": "stdout",
     "output_type": "stream",
     "text": [
      "<class 'pandas.core.frame.DataFrame'>\n",
      "Int64Index: 2816 entries, 1209 to 5302\n",
      "Data columns (total 7 columns):\n",
      " #   Column             Non-Null Count  Dtype         \n",
      "---  ------             --------------  -----         \n",
      " 0   id                 2816 non-null   int64         \n",
      " 1   release_date       2816 non-null   datetime64[ns]\n",
      " 2   movie              2816 non-null   object        \n",
      " 3   production_budget  2816 non-null   float64       \n",
      " 4   domestic_gross     2816 non-null   float64       \n",
      " 5   worldwide_gross    2816 non-null   float64       \n",
      " 6   roi                2816 non-null   float64       \n",
      "dtypes: datetime64[ns](1), float64(4), int64(1), object(1)\n",
      "memory usage: 176.0+ KB\n"
     ]
    }
   ],
   "source": [
    "df_low.info()"
   ]
  },
  {
   "cell_type": "code",
   "execution_count": 33,
   "id": "169258ed",
   "metadata": {},
   "outputs": [
    {
     "data": {
      "text/plain": [
       "array([[ 1.        , -0.12690003],\n",
       "       [-0.12690003,  1.        ]])"
      ]
     },
     "execution_count": 33,
     "metadata": {},
     "output_type": "execute_result"
    }
   ],
   "source": [
    "np.corrcoef(df_low['production_budget'], df_low['roi'])"
   ]
  },
  {
   "cell_type": "code",
   "execution_count": null,
   "id": "6eeb74bb",
   "metadata": {},
   "outputs": [],
   "source": [
    "#roi stats by budget"
   ]
  },
  {
   "cell_type": "code",
   "execution_count": 34,
   "id": "c1f8a83c",
   "metadata": {},
   "outputs": [
    {
     "data": {
      "text/plain": [
       "mean      208.341748\n",
       "median     80.819225\n",
       "std       526.485946\n",
       "Name: roi, dtype: float64"
      ]
     },
     "execution_count": 34,
     "metadata": {},
     "output_type": "execute_result"
    }
   ],
   "source": [
    "df_recent['roi'].agg(['mean','median','std'])"
   ]
  },
  {
   "cell_type": "code",
   "execution_count": 35,
   "id": "84e907e8",
   "metadata": {},
   "outputs": [
    {
     "data": {
      "text/plain": [
       "mean      209.215227\n",
       "median    175.320107\n",
       "std       179.764220\n",
       "min       -97.181818\n",
       "max       973.354526\n",
       "Name: roi, dtype: float64"
      ]
     },
     "execution_count": 35,
     "metadata": {},
     "output_type": "execute_result"
    }
   ],
   "source": [
    "df_high['roi'].agg(['mean','median','std', 'min', 'max'])"
   ]
  },
  {
   "cell_type": "code",
   "execution_count": 36,
   "id": "1a944db5",
   "metadata": {},
   "outputs": [
    {
     "data": {
      "text/plain": [
       "mean       160.439684\n",
       "median      98.658093\n",
       "std        238.823472\n",
       "min        -99.205725\n",
       "max       1527.246076\n",
       "Name: roi, dtype: float64"
      ]
     },
     "execution_count": 36,
     "metadata": {},
     "output_type": "execute_result"
    }
   ],
   "source": [
    "df_med['roi'].agg(['mean','median','std', 'min', 'max'])"
   ]
  },
  {
   "cell_type": "code",
   "execution_count": 37,
   "id": "e7887759",
   "metadata": {},
   "outputs": [
    {
     "data": {
      "text/plain": [
       "mean        218.684514\n",
       "median       54.948808\n",
       "std         598.351240\n",
       "min         -99.997400\n",
       "max       10075.949000\n",
       "Name: roi, dtype: float64"
      ]
     },
     "execution_count": 37,
     "metadata": {},
     "output_type": "execute_result"
    }
   ],
   "source": [
    "df_low['roi'].agg(['mean','median','std', 'min', 'max'])"
   ]
  },
  {
   "cell_type": "code",
   "execution_count": 38,
   "id": "a95e06a9",
   "metadata": {},
   "outputs": [
    {
     "data": {
      "image/png": "[encoded data removed]",
      "text/plain": [
       "<Figure size 1080x360 with 1 Axes>"
      ]
     },
     "metadata": {
      "needs_background": "light"
     },
     "output_type": "display_data"
    }
   ],
   "source": [
    "fig, ax = plt.subplots(figsize=(15,5))\n",
    "\n",
    "bins = range(-100, 15000, 100)\n",
    "\n",
    "ax.hist(\n",
    "    x=df_low[\"roi\"],\n",
    "    label=\"Low Budget\",\n",
    "    bins=bins,\n",
    "    color=\"cyan\",\n",
    "    alpha=0.5\n",
    ")\n",
    "ax.hist(\n",
    "    x=df_med[\"roi\"],\n",
    "    label=\"Medium Budget\",\n",
    "    bins=bins,\n",
    "    color=\"gray\",\n",
    "    alpha=0.3\n",
    ")\n",
    "ax.hist(\n",
    "    x=df_high[\"roi\"],\n",
    "    label=\"High Budget\",\n",
    "    bins=bins,\n",
    "    color=\"yellow\",\n",
    "    alpha=0.5\n",
    ")\n",
    "\n",
    "ax.set_title(\"Distributions of ROI Grouped by Budget\")\n",
    "ax.set_xlabel(\"ROI\")\n",
    "ax.set_ylabel(\"Number of Movies\")\n",
    "ax.legend();"
   ]
  },
  {
   "cell_type": "code",
   "execution_count": 39,
   "id": "5fc0bd95",
   "metadata": {},
   "outputs": [
    {
     "data": {
      "text/plain": [
       "Text(0, 0.5, 'Median ROI')"
      ]
     },
     "execution_count": 39,
     "metadata": {},
     "output_type": "execute_result"
    },
    {
     "data": {
      "image/png": "[encoded data removed]",
      "text/plain": [
       "<Figure size 432x288 with 1 Axes>"
      ]
     },
     "metadata": {
      "needs_background": "light"
     },
     "output_type": "display_data"
    }
   ],
   "source": [
    "#comparing ratings by median roi\n",
    "fig, ax = plt.subplots()\n",
    "\n",
    "ax.bar(['Low', 'Medium', 'High'], [df_low['roi'].median(), df_med['roi'].median(), df_high['roi'].median()])\n",
    "\n",
    "ax.set_title(\"Comparing Movie Budgets by Median ROI\")\n",
    "\n",
    "ax.set_xlabel(\"Budget\")\n",
    "ax.set_ylabel(\"Median ROI\")"
   ]
  },
  {
   "cell_type": "code",
   "execution_count": 40,
   "id": "e8e14554",
   "metadata": {},
   "outputs": [
    {
     "data": {
      "text/plain": [
       "Text(0, 0.5, 'Mean ROI')"
      ]
     },
     "execution_count": 40,
     "metadata": {},
     "output_type": "execute_result"
    },
    {
     "data": {
      "image/png": "[encoded data removed]",
      "text/plain": [
       "<Figure size 432x288 with 1 Axes>"
      ]
     },
     "metadata": {
      "needs_background": "light"
     },
     "output_type": "display_data"
    }
   ],
   "source": [
    "#comparing ratings by mean roi\n",
    "fig, ax = plt.subplots()\n",
    "\n",
    "ax.bar(['Low', 'Medium', 'High'], [df_low['roi'].mean(), df_med['roi'].mean(), df_high['roi'].mean()])\n",
    "\n",
    "ax.set_title(\"Comparing Movie Budgets by Mean ROI\")\n",
    "\n",
    "ax.set_xlabel(\"Budget\")\n",
    "ax.set_ylabel(\"Mean ROI\")"
   ]
  },
  {
   "cell_type": "code",
   "execution_count": 43,
   "id": "849b2282",
   "metadata": {},
   "outputs": [
    {
     "data": {
      "image/png": "[encoded data removed]",
      "text/plain": [
       "<Figure size 432x288 with 1 Axes>"
      ]
     },
     "metadata": {
      "needs_background": "light"
     },
     "output_type": "display_data"
    }
   ],
   "source": [
    "# create data\n",
    "x = np.arange(3)\n",
    "y1 = list(df_low['roi'].agg(['median','mean','std']))\n",
    "y2 = list(df_med['roi'].agg(['median','mean','std']))\n",
    "y3 = list(df_high['roi'].agg(['median','mean','std']))\n",
    "width = 0.2\n",
    "  \n",
    "# plot data in grouped manner of bar type\n",
    "plt.bar(x-0.2, y1, width, color='cyan')\n",
    "plt.bar(x, y2, width, color='orange')\n",
    "plt.bar(x+0.2, y3, width, color='green')\n",
    "plt.xticks(x, ['Median', 'Mean', 'Standard Deviation'])\n",
    "plt.xlabel(\"Statistical Measures\")\n",
    "plt.ylabel(\"ROI\")\n",
    "plt.legend([\"Low Budget\", \"Medium Budget\", \"High Budget\"])\n",
    "plt.show()"
   ]
  },
  {
   "cell_type": "code",
   "execution_count": null,
   "id": "d1e77e8b",
   "metadata": {},
   "outputs": [],
   "source": []
  }
 ],
 "metadata": {
  "kernelspec": {
   "display_name": "Python (learn-env)",
   "language": "python",
   "name": "learn-env"
  },
  "language_info": {
   "codemirror_mode": {
    "name": "ipython",
    "version": 3
   },
   "file_extension": ".py",
   "mimetype": "text/x-python",
   "name": "python",
   "nbconvert_exporter": "python",
   "pygments_lexer": "ipython3",
   "version": "3.8.8"
  }
 },
 "nbformat": 4,
 "nbformat_minor": 5
}
