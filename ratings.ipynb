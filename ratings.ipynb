{
 "cells": [
  {
   "cell_type": "code",
   "execution_count": 57,
   "id": "6d8fda5c",
   "metadata": {},
   "outputs": [],
   "source": [
    "import json\n",
    "import requests\n",
    "import pandas as pd\n",
    "import datetime\n",
    "import matplotlib.pyplot as plt\n",
    "%matplotlib inline"
   ]
  },
  {
   "cell_type": "code",
   "execution_count": 2,
   "id": "727e425c",
   "metadata": {},
   "outputs": [],
   "source": [
    "zippedData = ['tmdb.movies.csv.gz']"
   ]
  },
  {
   "cell_type": "code",
   "execution_count": 3,
   "id": "f518c880",
   "metadata": {},
   "outputs": [
    {
     "data": {
      "text/html": [
       "<div>\n",
       "<style scoped>\n",
       "    .dataframe tbody tr th:only-of-type {\n",
       "        vertical-align: middle;\n",
       "    }\n",
       "\n",
       "    .dataframe tbody tr th {\n",
       "        vertical-align: top;\n",
       "    }\n",
       "\n",
       "    .dataframe thead th {\n",
       "        text-align: right;\n",
       "    }\n",
       "</style>\n",
       "<table border=\"1\" class=\"dataframe\">\n",
       "  <thead>\n",
       "    <tr style=\"text-align: right;\">\n",
       "      <th></th>\n",
       "      <th>Unnamed: 0</th>\n",
       "      <th>genre_ids</th>\n",
       "      <th>id</th>\n",
       "      <th>original_language</th>\n",
       "      <th>original_title</th>\n",
       "      <th>popularity</th>\n",
       "      <th>release_date</th>\n",
       "      <th>title</th>\n",
       "      <th>vote_average</th>\n",
       "      <th>vote_count</th>\n",
       "    </tr>\n",
       "  </thead>\n",
       "  <tbody>\n",
       "    <tr>\n",
       "      <th>0</th>\n",
       "      <td>0</td>\n",
       "      <td>[12, 14, 10751]</td>\n",
       "      <td>12444</td>\n",
       "      <td>en</td>\n",
       "      <td>Harry Potter and the Deathly Hallows: Part 1</td>\n",
       "      <td>33.533</td>\n",
       "      <td>2010-11-19</td>\n",
       "      <td>Harry Potter and the Deathly Hallows: Part 1</td>\n",
       "      <td>7.7</td>\n",
       "      <td>10788</td>\n",
       "    </tr>\n",
       "    <tr>\n",
       "      <th>1</th>\n",
       "      <td>1</td>\n",
       "      <td>[14, 12, 16, 10751]</td>\n",
       "      <td>10191</td>\n",
       "      <td>en</td>\n",
       "      <td>How to Train Your Dragon</td>\n",
       "      <td>28.734</td>\n",
       "      <td>2010-03-26</td>\n",
       "      <td>How to Train Your Dragon</td>\n",
       "      <td>7.7</td>\n",
       "      <td>7610</td>\n",
       "    </tr>\n",
       "    <tr>\n",
       "      <th>2</th>\n",
       "      <td>2</td>\n",
       "      <td>[12, 28, 878]</td>\n",
       "      <td>10138</td>\n",
       "      <td>en</td>\n",
       "      <td>Iron Man 2</td>\n",
       "      <td>28.515</td>\n",
       "      <td>2010-05-07</td>\n",
       "      <td>Iron Man 2</td>\n",
       "      <td>6.8</td>\n",
       "      <td>12368</td>\n",
       "    </tr>\n",
       "    <tr>\n",
       "      <th>3</th>\n",
       "      <td>3</td>\n",
       "      <td>[16, 35, 10751]</td>\n",
       "      <td>862</td>\n",
       "      <td>en</td>\n",
       "      <td>Toy Story</td>\n",
       "      <td>28.005</td>\n",
       "      <td>1995-11-22</td>\n",
       "      <td>Toy Story</td>\n",
       "      <td>7.9</td>\n",
       "      <td>10174</td>\n",
       "    </tr>\n",
       "    <tr>\n",
       "      <th>4</th>\n",
       "      <td>4</td>\n",
       "      <td>[28, 878, 12]</td>\n",
       "      <td>27205</td>\n",
       "      <td>en</td>\n",
       "      <td>Inception</td>\n",
       "      <td>27.920</td>\n",
       "      <td>2010-07-16</td>\n",
       "      <td>Inception</td>\n",
       "      <td>8.3</td>\n",
       "      <td>22186</td>\n",
       "    </tr>\n",
       "  </tbody>\n",
       "</table>\n",
       "</div>"
      ],
      "text/plain": [
       "   Unnamed: 0            genre_ids     id original_language  \\\n",
       "0           0      [12, 14, 10751]  12444                en   \n",
       "1           1  [14, 12, 16, 10751]  10191                en   \n",
       "2           2        [12, 28, 878]  10138                en   \n",
       "3           3      [16, 35, 10751]    862                en   \n",
       "4           4        [28, 878, 12]  27205                en   \n",
       "\n",
       "                                 original_title  popularity release_date  \\\n",
       "0  Harry Potter and the Deathly Hallows: Part 1      33.533   2010-11-19   \n",
       "1                      How to Train Your Dragon      28.734   2010-03-26   \n",
       "2                                    Iron Man 2      28.515   2010-05-07   \n",
       "3                                     Toy Story      28.005   1995-11-22   \n",
       "4                                     Inception      27.920   2010-07-16   \n",
       "\n",
       "                                          title  vote_average  vote_count  \n",
       "0  Harry Potter and the Deathly Hallows: Part 1           7.7       10788  \n",
       "1                      How to Train Your Dragon           7.7        7610  \n",
       "2                                    Iron Man 2           6.8       12368  \n",
       "3                                     Toy Story           7.9       10174  \n",
       "4                                     Inception           8.3       22186  "
      ]
     },
     "execution_count": 3,
     "metadata": {},
     "output_type": "execute_result"
    }
   ],
   "source": [
    "tmdb_movies = pd.read_csv(\"zippedData/{}\".format(zippedData[0]))\n",
    "tmdb_movies.head()"
   ]
  },
  {
   "cell_type": "code",
   "execution_count": 4,
   "id": "86c3ffc1",
   "metadata": {},
   "outputs": [],
   "source": [
    "tmdb_movies['release_date'] = pd.to_datetime(tmdb_movies['release_date'], format='%Y-%m-%d')"
   ]
  },
  {
   "cell_type": "code",
   "execution_count": 5,
   "id": "30d5fb3d",
   "metadata": {},
   "outputs": [
    {
     "name": "stdout",
     "output_type": "stream",
     "text": [
      "<class 'pandas.core.frame.DataFrame'>\n",
      "Int64Index: 26398 entries, 0 to 26516\n",
      "Data columns (total 10 columns):\n",
      " #   Column             Non-Null Count  Dtype         \n",
      "---  ------             --------------  -----         \n",
      " 0   Unnamed: 0         26398 non-null  int64         \n",
      " 1   genre_ids          26398 non-null  object        \n",
      " 2   id                 26398 non-null  int64         \n",
      " 3   original_language  26398 non-null  object        \n",
      " 4   original_title     26398 non-null  object        \n",
      " 5   popularity         26398 non-null  float64       \n",
      " 6   release_date       26398 non-null  datetime64[ns]\n",
      " 7   title              26398 non-null  object        \n",
      " 8   vote_average       26398 non-null  float64       \n",
      " 9   vote_count         26398 non-null  int64         \n",
      "dtypes: datetime64[ns](1), float64(2), int64(3), object(4)\n",
      "memory usage: 2.2+ MB\n"
     ]
    }
   ],
   "source": [
    "movies_recent = tmdb_movies[tmdb_movies['release_date'] >= datetime.datetime(2000, 1, 1)]\n",
    "movies_recent.info()"
   ]
  },
  {
   "cell_type": "code",
   "execution_count": 6,
   "id": "1a8ac26f",
   "metadata": {},
   "outputs": [
    {
     "data": {
      "text/plain": [
       "mean        189.579059\n",
       "median        5.000000\n",
       "min           1.000000\n",
       "max       22186.000000\n",
       "Name: vote_count, dtype: float64"
      ]
     },
     "execution_count": 6,
     "metadata": {},
     "output_type": "execute_result"
    }
   ],
   "source": [
    "movies_recent['vote_count'].agg(['mean','median','min','max'])"
   ]
  },
  {
   "cell_type": "code",
   "execution_count": 7,
   "id": "54716f2a",
   "metadata": {},
   "outputs": [],
   "source": [
    "movies_recent = movies_recent[movies_recent['vote_count'] >= 1000]"
   ]
  },
  {
   "cell_type": "code",
   "execution_count": 8,
   "id": "c3f683d2",
   "metadata": {},
   "outputs": [
    {
     "name": "stdout",
     "output_type": "stream",
     "text": [
      "<class 'pandas.core.frame.DataFrame'>\n",
      "Int64Index: 1076 entries, 0 to 24231\n",
      "Data columns (total 10 columns):\n",
      " #   Column             Non-Null Count  Dtype         \n",
      "---  ------             --------------  -----         \n",
      " 0   Unnamed: 0         1076 non-null   int64         \n",
      " 1   genre_ids          1076 non-null   object        \n",
      " 2   id                 1076 non-null   int64         \n",
      " 3   original_language  1076 non-null   object        \n",
      " 4   original_title     1076 non-null   object        \n",
      " 5   popularity         1076 non-null   float64       \n",
      " 6   release_date       1076 non-null   datetime64[ns]\n",
      " 7   title              1076 non-null   object        \n",
      " 8   vote_average       1076 non-null   float64       \n",
      " 9   vote_count         1076 non-null   int64         \n",
      "dtypes: datetime64[ns](1), float64(2), int64(3), object(4)\n",
      "memory usage: 92.5+ KB\n"
     ]
    }
   ],
   "source": [
    "movies_recent.info()"
   ]
  },
  {
   "cell_type": "code",
   "execution_count": 9,
   "id": "0a68a05d",
   "metadata": {},
   "outputs": [],
   "source": [
    "def get_keys(path):\n",
    "    with open(path) as f:\n",
    "        return json.load(f)"
   ]
  },
  {
   "cell_type": "code",
   "execution_count": 10,
   "id": "eeb215bc",
   "metadata": {},
   "outputs": [],
   "source": [
    "api_key = 'fe75ad97b732bde2dcf2548165850c32'"
   ]
  },
  {
   "cell_type": "code",
   "execution_count": 11,
   "id": "6e98496f",
   "metadata": {},
   "outputs": [],
   "source": [
    "#get_keys(\"c/Users/Daniel/Documents/Flatiron/.secret/tmdb.json\")"
   ]
  },
  {
   "cell_type": "code",
   "execution_count": 12,
   "id": "00cc3806",
   "metadata": {},
   "outputs": [],
   "source": [
    "response = requests.get('https://api.themoviedb.org/3/movie/76341?api_key={}'.format(api_key))"
   ]
  },
  {
   "cell_type": "code",
   "execution_count": 13,
   "id": "50c895f7",
   "metadata": {},
   "outputs": [
    {
     "data": {
      "text/plain": [
       "200"
      ]
     },
     "execution_count": 13,
     "metadata": {},
     "output_type": "execute_result"
    }
   ],
   "source": [
    "response.status_code"
   ]
  },
  {
   "cell_type": "code",
   "execution_count": 14,
   "id": "8a85c924",
   "metadata": {},
   "outputs": [
    {
     "data": {
      "text/plain": [
       "{'adult': False,\n",
       " 'backdrop_path': '/nlCHUWjY9XWbuEUQauCBgnY8ymF.jpg',\n",
       " 'belongs_to_collection': {'id': 8945,\n",
       "  'name': 'Mad Max Collection',\n",
       "  'poster_path': '/uuvSvLb3ntGA9B0wx2JskVDSuWi.jpg',\n",
       "  'backdrop_path': '/gwYe803SFwKlCF5y71OicWHUnVD.jpg'},\n",
       " 'budget': 150000000,\n",
       " 'genres': [{'id': 28, 'name': 'Action'},\n",
       "  {'id': 12, 'name': 'Adventure'},\n",
       "  {'id': 878, 'name': 'Science Fiction'}],\n",
       " 'homepage': 'https://www.warnerbros.com/movies/mad-max-fury-road',\n",
       " 'id': 76341,\n",
       " 'imdb_id': 'tt1392190',\n",
       " 'original_language': 'en',\n",
       " 'original_title': 'Mad Max: Fury Road',\n",
       " 'overview': 'An apocalyptic story set in the furthest reaches of our planet, in a stark desert landscape where humanity is broken, and most everyone is crazed fighting for the necessities of life. Within this world exist two rebels on the run who just might be able to restore order.',\n",
       " 'popularity': 50.334,\n",
       " 'poster_path': '/8tZYtuWezp8JbcsvHYO0O46tFbo.jpg',\n",
       " 'production_companies': [{'id': 2537,\n",
       "   'logo_path': None,\n",
       "   'name': 'Kennedy Miller Productions',\n",
       "   'origin_country': 'AU'},\n",
       "  {'id': 174,\n",
       "   'logo_path': '/IuAlhI9eVC9Z8UQWOIDdWRKSEJ.png',\n",
       "   'name': 'Warner Bros. Pictures',\n",
       "   'origin_country': 'US'},\n",
       "  {'id': 41624,\n",
       "   'logo_path': '/wzKxIeQKlMP0y5CaAw25MD6EQmf.png',\n",
       "   'name': 'RatPac Entertainment',\n",
       "   'origin_country': 'US'},\n",
       "  {'id': 79,\n",
       "   'logo_path': '/tpFpsqbleCzEE2p5EgvUq6ozfCA.png',\n",
       "   'name': 'Village Roadshow Pictures',\n",
       "   'origin_country': 'US'}],\n",
       " 'production_countries': [{'iso_3166_1': 'AU', 'name': 'Australia'},\n",
       "  {'iso_3166_1': 'US', 'name': 'United States of America'},\n",
       "  {'iso_3166_1': 'ZA', 'name': 'South Africa'}],\n",
       " 'release_date': '2015-05-13',\n",
       " 'revenue': 378858340,\n",
       " 'runtime': 121,\n",
       " 'spoken_languages': [{'english_name': 'English',\n",
       "   'iso_639_1': 'en',\n",
       "   'name': 'English'}],\n",
       " 'status': 'Released',\n",
       " 'tagline': 'What a Lovely Day.',\n",
       " 'title': 'Mad Max: Fury Road',\n",
       " 'video': False,\n",
       " 'vote_average': 7.5,\n",
       " 'vote_count': 18055}"
      ]
     },
     "execution_count": 14,
     "metadata": {},
     "output_type": "execute_result"
    }
   ],
   "source": [
    "response.json()"
   ]
  },
  {
   "cell_type": "code",
   "execution_count": 15,
   "id": "2b8e8070",
   "metadata": {},
   "outputs": [],
   "source": [
    "response2 = requests.get('https://api.themoviedb.org/3/movie/12444/release_dates?iso_3166_1=US&api_key={}'.format(api_key))"
   ]
  },
  {
   "cell_type": "code",
   "execution_count": 16,
   "id": "a639ce1d",
   "metadata": {},
   "outputs": [
    {
     "data": {
      "text/plain": [
       "200"
      ]
     },
     "execution_count": 16,
     "metadata": {},
     "output_type": "execute_result"
    }
   ],
   "source": [
    "response2.status_code"
   ]
  },
  {
   "cell_type": "code",
   "execution_count": 17,
   "id": "d6ac203a",
   "metadata": {},
   "outputs": [
    {
     "data": {
      "text/plain": [
       "[{'iso_3166_1': 'BR',\n",
       "  'release_dates': [{'certification': '10',\n",
       "    'iso_639_1': '',\n",
       "    'note': '',\n",
       "    'release_date': '2010-11-18T00:00:00.000Z',\n",
       "    'type': 3}]},\n",
       " {'iso_3166_1': 'CZ',\n",
       "  'release_dates': [{'certification': '12',\n",
       "    'iso_639_1': '',\n",
       "    'note': '',\n",
       "    'release_date': '2010-11-18T00:00:00.000Z',\n",
       "    'type': 3}]},\n",
       " {'iso_3166_1': 'PT',\n",
       "  'release_dates': [{'certification': 'M/12',\n",
       "    'iso_639_1': '',\n",
       "    'note': 'Versão original legendada',\n",
       "    'release_date': '2010-11-18T00:00:00.000Z',\n",
       "    'type': 3}]},\n",
       " {'iso_3166_1': 'NL',\n",
       "  'release_dates': [{'certification': '12',\n",
       "    'iso_639_1': '',\n",
       "    'note': '',\n",
       "    'release_date': '2010-11-17T00:00:00.000Z',\n",
       "    'type': 3},\n",
       "   {'certification': '12',\n",
       "    'iso_639_1': '',\n",
       "    'note': 'Blu ray',\n",
       "    'release_date': '2011-11-09T00:00:00.000Z',\n",
       "    'type': 5},\n",
       "   {'certification': '12',\n",
       "    'iso_639_1': '',\n",
       "    'note': 'DVD',\n",
       "    'release_date': '2016-08-17T00:00:00.000Z',\n",
       "    'type': 5},\n",
       "   {'certification': '12',\n",
       "    'iso_639_1': '',\n",
       "    'note': 'SBS 6',\n",
       "    'release_date': '2013-08-26T00:00:00.000Z',\n",
       "    'type': 6}]},\n",
       " {'iso_3166_1': 'IT',\n",
       "  'release_dates': [{'certification': 'T',\n",
       "    'iso_639_1': '',\n",
       "    'note': '',\n",
       "    'release_date': '2010-11-19T00:00:00.000Z',\n",
       "    'type': 3}]},\n",
       " {'iso_3166_1': 'GR',\n",
       "  'release_dates': [{'certification': 'PG',\n",
       "    'iso_639_1': '',\n",
       "    'note': '',\n",
       "    'release_date': '2010-11-18T00:00:00.000Z',\n",
       "    'type': 3}]},\n",
       " {'iso_3166_1': 'DE',\n",
       "  'release_dates': [{'certification': '12',\n",
       "    'iso_639_1': '',\n",
       "    'note': '',\n",
       "    'release_date': '2010-11-18T00:00:00.000Z',\n",
       "    'type': 3}]},\n",
       " {'iso_3166_1': 'FR',\n",
       "  'release_dates': [{'certification': 'U',\n",
       "    'iso_639_1': '',\n",
       "    'note': 'Visa CNC 127998',\n",
       "    'release_date': '2010-11-24T00:00:00.000Z',\n",
       "    'type': 3}]},\n",
       " {'iso_3166_1': 'FI',\n",
       "  'release_dates': [{'certification': 'K-11',\n",
       "    'iso_639_1': '',\n",
       "    'note': '',\n",
       "    'release_date': '2010-11-17T00:00:00.000Z',\n",
       "    'type': 3}]},\n",
       " {'iso_3166_1': 'IE',\n",
       "  'release_dates': [{'certification': '12A',\n",
       "    'iso_639_1': None,\n",
       "    'note': '',\n",
       "    'release_date': '2010-11-19T00:00:00.000Z',\n",
       "    'type': 3}]},\n",
       " {'iso_3166_1': 'TH',\n",
       "  'release_dates': [{'certification': 'ท ทั่วไป',\n",
       "    'iso_639_1': '',\n",
       "    'note': '',\n",
       "    'release_date': '2010-11-18T00:00:00.000Z',\n",
       "    'type': 3}]},\n",
       " {'iso_3166_1': 'DK',\n",
       "  'release_dates': [{'certification': '11',\n",
       "    'iso_639_1': '',\n",
       "    'note': '',\n",
       "    'release_date': '2010-11-18T00:00:00.000Z',\n",
       "    'type': 3}]},\n",
       " {'iso_3166_1': 'SE',\n",
       "  'release_dates': [{'certification': '11',\n",
       "    'iso_639_1': '',\n",
       "    'note': '',\n",
       "    'release_date': '2010-11-17T00:00:00.000Z',\n",
       "    'type': 3},\n",
       "   {'certification': '11',\n",
       "    'iso_639_1': '',\n",
       "    'note': '4K UltraHD',\n",
       "    'release_date': '2017-03-27T00:00:00.000Z',\n",
       "    'type': 5},\n",
       "   {'certification': '11',\n",
       "    'iso_639_1': '',\n",
       "    'note': 'DVD, Blu-ray, 3D Blu-ray',\n",
       "    'release_date': '2011-04-13T00:00:00.000Z',\n",
       "    'type': 5}]},\n",
       " {'iso_3166_1': 'GB',\n",
       "  'release_dates': [{'certification': '12A',\n",
       "    'iso_639_1': '',\n",
       "    'note': '',\n",
       "    'release_date': '2010-11-19T00:00:00.000Z',\n",
       "    'type': 3},\n",
       "   {'certification': '12',\n",
       "    'iso_639_1': None,\n",
       "    'note': '',\n",
       "    'release_date': '2011-03-08T00:00:00.000Z',\n",
       "    'type': 5}]},\n",
       " {'iso_3166_1': 'LT',\n",
       "  'release_dates': [{'certification': '',\n",
       "    'iso_639_1': '',\n",
       "    'note': '2D ir IMAX',\n",
       "    'release_date': '2010-11-19T00:00:00.000Z',\n",
       "    'type': 1},\n",
       "   {'certification': '',\n",
       "    'iso_639_1': '',\n",
       "    'note': '2D ir IMAX',\n",
       "    'release_date': '2010-11-19T00:00:00.000Z',\n",
       "    'type': 3},\n",
       "   {'certification': '',\n",
       "    'iso_639_1': '',\n",
       "    'note': '',\n",
       "    'release_date': '2016-10-23T00:00:00.000Z',\n",
       "    'type': 3}]},\n",
       " {'iso_3166_1': 'RU',\n",
       "  'release_dates': [{'certification': '12+',\n",
       "    'iso_639_1': '',\n",
       "    'note': '',\n",
       "    'release_date': '2010-11-19T00:00:00.000Z',\n",
       "    'type': 3}]},\n",
       " {'iso_3166_1': 'TR',\n",
       "  'release_dates': [{'certification': '',\n",
       "    'iso_639_1': '',\n",
       "    'note': '',\n",
       "    'release_date': '2010-10-17T00:00:00.000Z',\n",
       "    'type': 3}]},\n",
       " {'iso_3166_1': 'US',\n",
       "  'release_dates': [{'certification': 'PG-13',\n",
       "    'iso_639_1': '',\n",
       "    'note': '',\n",
       "    'release_date': '2010-11-19T00:00:00.000Z',\n",
       "    'type': 3}]},\n",
       " {'iso_3166_1': 'IL',\n",
       "  'release_dates': [{'certification': '',\n",
       "    'iso_639_1': '',\n",
       "    'note': '',\n",
       "    'release_date': '2010-11-18T00:00:00.000Z',\n",
       "    'type': 3}]},\n",
       " {'iso_3166_1': 'HK',\n",
       "  'release_dates': [{'certification': '',\n",
       "    'iso_639_1': '',\n",
       "    'note': '',\n",
       "    'release_date': '2010-12-16T00:00:00.000Z',\n",
       "    'type': 3}]},\n",
       " {'iso_3166_1': 'HU',\n",
       "  'release_dates': [{'certification': '12',\n",
       "    'iso_639_1': '',\n",
       "    'note': '',\n",
       "    'release_date': '2010-11-25T00:00:00.000Z',\n",
       "    'type': 3}]},\n",
       " {'iso_3166_1': 'AU',\n",
       "  'release_dates': [{'certification': 'M',\n",
       "    'iso_639_1': '',\n",
       "    'note': '',\n",
       "    'release_date': '2010-11-13T00:00:00.000Z',\n",
       "    'type': 3}]},\n",
       " {'iso_3166_1': 'KR',\n",
       "  'release_dates': [{'certification': 'ALL',\n",
       "    'iso_639_1': '',\n",
       "    'note': '',\n",
       "    'release_date': '2010-12-15T00:00:00.000Z',\n",
       "    'type': 3}]}]"
      ]
     },
     "execution_count": 17,
     "metadata": {},
     "output_type": "execute_result"
    }
   ],
   "source": [
    "response2.json()['results']"
   ]
  },
  {
   "cell_type": "code",
   "execution_count": 18,
   "id": "cf923c6a",
   "metadata": {},
   "outputs": [],
   "source": [
    "release_info = None\n",
    "for country in response2.json()['results']:\n",
    "    if country['iso_3166_1'] == 'US':  \n",
    "        release_info = country['release_dates'][0]"
   ]
  },
  {
   "cell_type": "code",
   "execution_count": 19,
   "id": "6f21d9ff",
   "metadata": {},
   "outputs": [
    {
     "data": {
      "text/plain": [
       "'PG-13'"
      ]
     },
     "execution_count": 19,
     "metadata": {},
     "output_type": "execute_result"
    }
   ],
   "source": [
    "release_info['certification']"
   ]
  },
  {
   "cell_type": "code",
   "execution_count": 20,
   "id": "98f20f24",
   "metadata": {},
   "outputs": [],
   "source": [
    "movie_ids = list(movies_recent['id'])"
   ]
  },
  {
   "cell_type": "code",
   "execution_count": 21,
   "id": "60af51ba",
   "metadata": {},
   "outputs": [],
   "source": [
    "def getrating(movies):\n",
    "    all_ratings=[]\n",
    "    for movie in movies:\n",
    "        rating = {}\n",
    "        uri = 'https://api.themoviedb.org/3/movie/{}/release_dates?api_key='.format(movie)\n",
    "        response = requests.get(uri+api_key).json()\n",
    "        release_info = None\n",
    "        for country in response['results']:\n",
    "            if country['iso_3166_1'] == 'US':  \n",
    "                release_info = country['release_dates'][0]\n",
    "        rating['id'] = movie\n",
    "        rating['rating'] = release_info['certification']\n",
    "        all_ratings.append(rating)\n",
    "    return all_ratings"
   ]
  },
  {
   "cell_type": "code",
   "execution_count": null,
   "id": "5720a137",
   "metadata": {},
   "outputs": [],
   "source": [
    "getrating(movie_ids)"
   ]
  },
  {
   "cell_type": "code",
   "execution_count": 22,
   "id": "9550ef46",
   "metadata": {},
   "outputs": [],
   "source": [
    "movie_rating = getrating(movie_ids)"
   ]
  },
  {
   "cell_type": "code",
   "execution_count": 23,
   "id": "0320c312",
   "metadata": {},
   "outputs": [
    {
     "data": {
      "text/plain": [
       "{'id': 12444, 'rating': 'PG-13'}"
      ]
     },
     "execution_count": 23,
     "metadata": {},
     "output_type": "execute_result"
    }
   ],
   "source": [
    "movie_rating[0]"
   ]
  },
  {
   "cell_type": "code",
   "execution_count": 24,
   "id": "aadf19ac",
   "metadata": {},
   "outputs": [],
   "source": [
    "def getdata(movies):\n",
    "    all_data=[]\n",
    "    for movie in movies:\n",
    "        uri = 'https://api.themoviedb.org/3/movie/{}?api_key='.format(movie)\n",
    "        response = requests.get(uri+api_key).json()\n",
    "        data = {'id': movie, 'budget': None, 'revenue': None}\n",
    "        for key in (\"budget\",\"revenue\"):\n",
    "            data[key] = response[key]\n",
    "        if all(data.values()):\n",
    "            all_data.append(data)\n",
    "    return all_data"
   ]
  },
  {
   "cell_type": "code",
   "execution_count": null,
   "id": "bce97fa9",
   "metadata": {},
   "outputs": [],
   "source": [
    "getdata(movie_ids)"
   ]
  },
  {
   "cell_type": "code",
   "execution_count": 25,
   "id": "be5e77e3",
   "metadata": {},
   "outputs": [],
   "source": [
    "movie_data = getdata(movie_ids)"
   ]
  },
  {
   "cell_type": "code",
   "execution_count": 26,
   "id": "1700366e",
   "metadata": {},
   "outputs": [
    {
     "data": {
      "text/plain": [
       "{'id': 12444, 'budget': 250000000, 'revenue': 954305868}"
      ]
     },
     "execution_count": 26,
     "metadata": {},
     "output_type": "execute_result"
    }
   ],
   "source": [
    "movie_data[0]"
   ]
  },
  {
   "cell_type": "code",
   "execution_count": 27,
   "id": "b0fad287",
   "metadata": {},
   "outputs": [],
   "source": [
    "df_rating = pd.DataFrame(movie_rating)"
   ]
  },
  {
   "cell_type": "code",
   "execution_count": 28,
   "id": "24b1b4af",
   "metadata": {},
   "outputs": [
    {
     "name": "stdout",
     "output_type": "stream",
     "text": [
      "<class 'pandas.core.frame.DataFrame'>\n",
      "RangeIndex: 1076 entries, 0 to 1075\n",
      "Data columns (total 2 columns):\n",
      " #   Column  Non-Null Count  Dtype \n",
      "---  ------  --------------  ----- \n",
      " 0   id      1076 non-null   int64 \n",
      " 1   rating  1076 non-null   object\n",
      "dtypes: int64(1), object(1)\n",
      "memory usage: 16.9+ KB\n"
     ]
    }
   ],
   "source": [
    "df_rating.info()"
   ]
  },
  {
   "cell_type": "code",
   "execution_count": 29,
   "id": "553f1ab5",
   "metadata": {},
   "outputs": [],
   "source": [
    "df_data = pd.DataFrame(movie_data)"
   ]
  },
  {
   "cell_type": "code",
   "execution_count": 30,
   "id": "55462d59",
   "metadata": {},
   "outputs": [
    {
     "data": {
      "text/html": [
       "<div>\n",
       "<style scoped>\n",
       "    .dataframe tbody tr th:only-of-type {\n",
       "        vertical-align: middle;\n",
       "    }\n",
       "\n",
       "    .dataframe tbody tr th {\n",
       "        vertical-align: top;\n",
       "    }\n",
       "\n",
       "    .dataframe thead th {\n",
       "        text-align: right;\n",
       "    }\n",
       "</style>\n",
       "<table border=\"1\" class=\"dataframe\">\n",
       "  <thead>\n",
       "    <tr style=\"text-align: right;\">\n",
       "      <th></th>\n",
       "      <th>id</th>\n",
       "      <th>budget</th>\n",
       "      <th>revenue</th>\n",
       "    </tr>\n",
       "  </thead>\n",
       "  <tbody>\n",
       "    <tr>\n",
       "      <th>0</th>\n",
       "      <td>12444</td>\n",
       "      <td>250000000</td>\n",
       "      <td>954305868</td>\n",
       "    </tr>\n",
       "    <tr>\n",
       "      <th>1</th>\n",
       "      <td>10191</td>\n",
       "      <td>165000000</td>\n",
       "      <td>494878759</td>\n",
       "    </tr>\n",
       "    <tr>\n",
       "      <th>2</th>\n",
       "      <td>10138</td>\n",
       "      <td>200000000</td>\n",
       "      <td>623933331</td>\n",
       "    </tr>\n",
       "    <tr>\n",
       "      <th>3</th>\n",
       "      <td>27205</td>\n",
       "      <td>160000000</td>\n",
       "      <td>825532764</td>\n",
       "    </tr>\n",
       "    <tr>\n",
       "      <th>4</th>\n",
       "      <td>32657</td>\n",
       "      <td>95000000</td>\n",
       "      <td>226497209</td>\n",
       "    </tr>\n",
       "  </tbody>\n",
       "</table>\n",
       "</div>"
      ],
      "text/plain": [
       "      id     budget    revenue\n",
       "0  12444  250000000  954305868\n",
       "1  10191  165000000  494878759\n",
       "2  10138  200000000  623933331\n",
       "3  27205  160000000  825532764\n",
       "4  32657   95000000  226497209"
      ]
     },
     "execution_count": 30,
     "metadata": {},
     "output_type": "execute_result"
    }
   ],
   "source": [
    "df_data.head()"
   ]
  },
  {
   "cell_type": "code",
   "execution_count": 31,
   "id": "997f2bf8",
   "metadata": {},
   "outputs": [],
   "source": [
    "df_data['roi'] = ((df_data['revenue']-df_data['budget'])/df_data['budget'])*100"
   ]
  },
  {
   "cell_type": "code",
   "execution_count": 32,
   "id": "6a29b6fd",
   "metadata": {},
   "outputs": [
    {
     "data": {
      "text/html": [
       "<div>\n",
       "<style scoped>\n",
       "    .dataframe tbody tr th:only-of-type {\n",
       "        vertical-align: middle;\n",
       "    }\n",
       "\n",
       "    .dataframe tbody tr th {\n",
       "        vertical-align: top;\n",
       "    }\n",
       "\n",
       "    .dataframe thead th {\n",
       "        text-align: right;\n",
       "    }\n",
       "</style>\n",
       "<table border=\"1\" class=\"dataframe\">\n",
       "  <thead>\n",
       "    <tr style=\"text-align: right;\">\n",
       "      <th></th>\n",
       "      <th>id</th>\n",
       "      <th>budget</th>\n",
       "      <th>revenue</th>\n",
       "      <th>roi</th>\n",
       "    </tr>\n",
       "  </thead>\n",
       "  <tbody>\n",
       "    <tr>\n",
       "      <th>0</th>\n",
       "      <td>12444</td>\n",
       "      <td>250000000</td>\n",
       "      <td>954305868</td>\n",
       "      <td>281.722347</td>\n",
       "    </tr>\n",
       "    <tr>\n",
       "      <th>1</th>\n",
       "      <td>10191</td>\n",
       "      <td>165000000</td>\n",
       "      <td>494878759</td>\n",
       "      <td>199.926521</td>\n",
       "    </tr>\n",
       "    <tr>\n",
       "      <th>2</th>\n",
       "      <td>10138</td>\n",
       "      <td>200000000</td>\n",
       "      <td>623933331</td>\n",
       "      <td>211.966666</td>\n",
       "    </tr>\n",
       "    <tr>\n",
       "      <th>3</th>\n",
       "      <td>27205</td>\n",
       "      <td>160000000</td>\n",
       "      <td>825532764</td>\n",
       "      <td>415.957978</td>\n",
       "    </tr>\n",
       "    <tr>\n",
       "      <th>4</th>\n",
       "      <td>32657</td>\n",
       "      <td>95000000</td>\n",
       "      <td>226497209</td>\n",
       "      <td>138.418115</td>\n",
       "    </tr>\n",
       "  </tbody>\n",
       "</table>\n",
       "</div>"
      ],
      "text/plain": [
       "      id     budget    revenue         roi\n",
       "0  12444  250000000  954305868  281.722347\n",
       "1  10191  165000000  494878759  199.926521\n",
       "2  10138  200000000  623933331  211.966666\n",
       "3  27205  160000000  825532764  415.957978\n",
       "4  32657   95000000  226497209  138.418115"
      ]
     },
     "execution_count": 32,
     "metadata": {},
     "output_type": "execute_result"
    }
   ],
   "source": [
    "df_data.head()"
   ]
  },
  {
   "cell_type": "code",
   "execution_count": 33,
   "id": "8dbd21f6",
   "metadata": {},
   "outputs": [
    {
     "name": "stdout",
     "output_type": "stream",
     "text": [
      "<class 'pandas.core.frame.DataFrame'>\n",
      "RangeIndex: 1010 entries, 0 to 1009\n",
      "Data columns (total 4 columns):\n",
      " #   Column   Non-Null Count  Dtype  \n",
      "---  ------   --------------  -----  \n",
      " 0   id       1010 non-null   int64  \n",
      " 1   budget   1010 non-null   int64  \n",
      " 2   revenue  1010 non-null   int64  \n",
      " 3   roi      1010 non-null   float64\n",
      "dtypes: float64(1), int64(3)\n",
      "memory usage: 31.7 KB\n"
     ]
    }
   ],
   "source": [
    "df_data.info()"
   ]
  },
  {
   "cell_type": "code",
   "execution_count": 34,
   "id": "72364e2c",
   "metadata": {},
   "outputs": [],
   "source": [
    "df_rating.set_index('id', inplace=True)"
   ]
  },
  {
   "cell_type": "code",
   "execution_count": 35,
   "id": "6eca6002",
   "metadata": {},
   "outputs": [],
   "source": [
    "df_data.set_index('id', inplace=True)"
   ]
  },
  {
   "cell_type": "code",
   "execution_count": 36,
   "id": "b4167507",
   "metadata": {},
   "outputs": [],
   "source": [
    "joined_df = df_data.join(df_rating, how='inner')"
   ]
  },
  {
   "cell_type": "code",
   "execution_count": 37,
   "id": "f704ba9a",
   "metadata": {},
   "outputs": [
    {
     "data": {
      "text/html": [
       "<div>\n",
       "<style scoped>\n",
       "    .dataframe tbody tr th:only-of-type {\n",
       "        vertical-align: middle;\n",
       "    }\n",
       "\n",
       "    .dataframe tbody tr th {\n",
       "        vertical-align: top;\n",
       "    }\n",
       "\n",
       "    .dataframe thead th {\n",
       "        text-align: right;\n",
       "    }\n",
       "</style>\n",
       "<table border=\"1\" class=\"dataframe\">\n",
       "  <thead>\n",
       "    <tr style=\"text-align: right;\">\n",
       "      <th></th>\n",
       "      <th>budget</th>\n",
       "      <th>revenue</th>\n",
       "      <th>roi</th>\n",
       "      <th>rating</th>\n",
       "    </tr>\n",
       "    <tr>\n",
       "      <th>id</th>\n",
       "      <th></th>\n",
       "      <th></th>\n",
       "      <th></th>\n",
       "      <th></th>\n",
       "    </tr>\n",
       "  </thead>\n",
       "  <tbody>\n",
       "    <tr>\n",
       "      <th>129</th>\n",
       "      <td>19000000</td>\n",
       "      <td>274925095</td>\n",
       "      <td>1346.974184</td>\n",
       "      <td>PG</td>\n",
       "    </tr>\n",
       "    <tr>\n",
       "      <th>129</th>\n",
       "      <td>19000000</td>\n",
       "      <td>274925095</td>\n",
       "      <td>1346.974184</td>\n",
       "      <td>PG</td>\n",
       "    </tr>\n",
       "    <tr>\n",
       "      <th>129</th>\n",
       "      <td>19000000</td>\n",
       "      <td>274925095</td>\n",
       "      <td>1346.974184</td>\n",
       "      <td>PG</td>\n",
       "    </tr>\n",
       "    <tr>\n",
       "      <th>129</th>\n",
       "      <td>19000000</td>\n",
       "      <td>274925095</td>\n",
       "      <td>1346.974184</td>\n",
       "      <td>PG</td>\n",
       "    </tr>\n",
       "    <tr>\n",
       "      <th>176</th>\n",
       "      <td>1200000</td>\n",
       "      <td>103911669</td>\n",
       "      <td>8559.305750</td>\n",
       "      <td>R</td>\n",
       "    </tr>\n",
       "  </tbody>\n",
       "</table>\n",
       "</div>"
      ],
      "text/plain": [
       "       budget    revenue          roi rating\n",
       "id                                          \n",
       "129  19000000  274925095  1346.974184     PG\n",
       "129  19000000  274925095  1346.974184     PG\n",
       "129  19000000  274925095  1346.974184     PG\n",
       "129  19000000  274925095  1346.974184     PG\n",
       "176   1200000  103911669  8559.305750      R"
      ]
     },
     "execution_count": 37,
     "metadata": {},
     "output_type": "execute_result"
    }
   ],
   "source": [
    "joined_df.head()"
   ]
  },
  {
   "cell_type": "code",
   "execution_count": 38,
   "id": "3aa89bff",
   "metadata": {},
   "outputs": [
    {
     "name": "stdout",
     "output_type": "stream",
     "text": [
      "<class 'pandas.core.frame.DataFrame'>\n",
      "Int64Index: 1236 entries, 129 to 504172\n",
      "Data columns (total 4 columns):\n",
      " #   Column   Non-Null Count  Dtype  \n",
      "---  ------   --------------  -----  \n",
      " 0   budget   1236 non-null   int64  \n",
      " 1   revenue  1236 non-null   int64  \n",
      " 2   roi      1236 non-null   float64\n",
      " 3   rating   1236 non-null   object \n",
      "dtypes: float64(1), int64(2), object(1)\n",
      "memory usage: 48.3+ KB\n"
     ]
    }
   ],
   "source": [
    "joined_df.info()"
   ]
  },
  {
   "cell_type": "code",
   "execution_count": 42,
   "id": "e852d0ea",
   "metadata": {},
   "outputs": [],
   "source": [
    "joined_df = joined_df.reset_index()"
   ]
  },
  {
   "cell_type": "code",
   "execution_count": 43,
   "id": "3849e7db",
   "metadata": {},
   "outputs": [],
   "source": [
    "joined_df=joined_df.drop_duplicates('id')"
   ]
  },
  {
   "cell_type": "code",
   "execution_count": 44,
   "id": "bf972cfe",
   "metadata": {},
   "outputs": [
    {
     "name": "stdout",
     "output_type": "stream",
     "text": [
      "<class 'pandas.core.frame.DataFrame'>\n",
      "Int64Index: 897 entries, 0 to 1235\n",
      "Data columns (total 5 columns):\n",
      " #   Column   Non-Null Count  Dtype  \n",
      "---  ------   --------------  -----  \n",
      " 0   id       897 non-null    int64  \n",
      " 1   budget   897 non-null    int64  \n",
      " 2   revenue  897 non-null    int64  \n",
      " 3   roi      897 non-null    float64\n",
      " 4   rating   897 non-null    object \n",
      "dtypes: float64(1), int64(3), object(1)\n",
      "memory usage: 42.0+ KB\n"
     ]
    }
   ],
   "source": [
    "joined_df.info()"
   ]
  },
  {
   "cell_type": "code",
   "execution_count": 46,
   "id": "306cec0e",
   "metadata": {},
   "outputs": [
    {
     "data": {
      "text/plain": [
       "PG-13    384\n",
       "R        321\n",
       "PG       115\n",
       "          64\n",
       "G         11\n",
       "NC-17      1\n",
       "NR         1\n",
       "Name: rating, dtype: int64"
      ]
     },
     "execution_count": 46,
     "metadata": {},
     "output_type": "execute_result"
    }
   ],
   "source": [
    "joined_df['rating'].value_counts()"
   ]
  },
  {
   "cell_type": "code",
   "execution_count": 52,
   "id": "05b17854",
   "metadata": {},
   "outputs": [],
   "source": [
    "joined_df = joined_df[joined_df['rating'] != \"\"]"
   ]
  },
  {
   "cell_type": "code",
   "execution_count": 53,
   "id": "c3d8b1d8",
   "metadata": {},
   "outputs": [
    {
     "data": {
      "text/plain": [
       "PG-13    384\n",
       "R        321\n",
       "PG       115\n",
       "G         11\n",
       "NC-17      1\n",
       "NR         1\n",
       "Name: rating, dtype: int64"
      ]
     },
     "execution_count": 53,
     "metadata": {},
     "output_type": "execute_result"
    }
   ],
   "source": [
    "joined_df['rating'].value_counts()"
   ]
  },
  {
   "cell_type": "code",
   "execution_count": 55,
   "id": "5e73d104",
   "metadata": {},
   "outputs": [],
   "source": [
    "pg = joined_df[joined_df['rating'].map(lambda x: x == 'PG')]\n",
    "pg_13 = joined_df[joined_df['rating'].map(lambda x: x == 'PG-13')]\n",
    "r = joined_df[joined_df['rating'].map(lambda x: x == 'R')]"
   ]
  },
  {
   "cell_type": "code",
   "execution_count": 61,
   "id": "73cf2fe1",
   "metadata": {},
   "outputs": [
    {
     "data": {
      "text/plain": [
       "median      210.177543\n",
       "min         -99.999996\n",
       "max       14175.153200\n",
       "Name: roi, dtype: float64"
      ]
     },
     "execution_count": 61,
     "metadata": {},
     "output_type": "execute_result"
    }
   ],
   "source": [
    "joined_df['roi'].agg(['median','min','max'])"
   ]
  },
  {
   "cell_type": "code",
   "execution_count": 62,
   "id": "b3fe0ed7",
   "metadata": {},
   "outputs": [
    {
     "data": {
      "image/png": "[encoded data removed]",
      "text/plain": [
       "<Figure size 1080x360 with 1 Axes>"
      ]
     },
     "metadata": {
      "needs_background": "light"
     },
     "output_type": "display_data"
    }
   ],
   "source": [
    "fig, ax = plt.subplots(figsize=(15,5))\n",
    "\n",
    "bins = range(-100, 15000, 100)\n",
    "\n",
    "ax.hist(\n",
    "    x=pg[\"roi\"],\n",
    "    label=\"PG\",\n",
    "    bins=bins,\n",
    "    color=\"cyan\",\n",
    "    alpha=0.5\n",
    ")\n",
    "ax.hist(\n",
    "    x=pg_13[\"roi\"],\n",
    "    label=\"PG-13\",\n",
    "    bins=bins,\n",
    "    color=\"gray\",\n",
    "    alpha=0.3\n",
    ")\n",
    "ax.hist(\n",
    "    x=r[\"roi\"],\n",
    "    label=\"R\",\n",
    "    bins=bins,\n",
    "    color=\"yellow\",\n",
    "    alpha=0.5\n",
    ")\n",
    "\n",
    "ax.set_title(\"Distributions of ROI Grouped by Rating\")\n",
    "ax.set_xlabel(\"ROI\")\n",
    "ax.set_ylabel(\"Number of Movies\")\n",
    "ax.legend();"
   ]
  },
  {
   "cell_type": "code",
   "execution_count": 64,
   "id": "a0b10a26",
   "metadata": {},
   "outputs": [
    {
     "data": {
      "text/plain": [
       "Text(0, 0.5, 'ROI')"
      ]
     },
     "execution_count": 64,
     "metadata": {},
     "output_type": "execute_result"
    },
    {
     "data": {
      "image/png": "[encoded data removed]",
      "text/plain": [
       "<Figure size 1080x360 with 1 Axes>"
      ]
     },
     "metadata": {
      "needs_background": "light"
     },
     "output_type": "display_data"
    }
   ],
   "source": [
    "#boxplot of ROI by rating\n",
    "\n",
    "import seaborn as sns\n",
    "\n",
    "fig, ax = plt.subplots(figsize=(15,5))\n",
    "\n",
    "sns.boxplot(\n",
    "    x=joined_df['rating'],\n",
    "    y=joined_df[\"roi\"],\n",
    "    ax=ax\n",
    ")\n",
    "\n",
    "ax.set_title(\"Correlation between Movie Rating and ROI\")\n",
    "ax.set_xlabel(\"Movie Rating\")\n",
    "ax.set_ylabel(\"ROI\")"
   ]
  },
  {
   "cell_type": "code",
   "execution_count": 69,
   "id": "e02c21a0",
   "metadata": {},
   "outputs": [
    {
     "data": {
      "text/plain": [
       "Text(0, 0.5, 'Median ROI')"
      ]
     },
     "execution_count": 69,
     "metadata": {},
     "output_type": "execute_result"
    },
    {
     "data": {
      "image/png": "[encoded data removed]",
      "text/plain": [
       "<Figure size 432x288 with 1 Axes>"
      ]
     },
     "metadata": {
      "needs_background": "light"
     },
     "output_type": "display_data"
    }
   ],
   "source": [
    "#comparing ratings by median roi\n",
    "fig, ax = plt.subplots()\n",
    "\n",
    "ax.bar(['PG', 'PG-13', 'R'], [pg['roi'].median(), pg_13['roi'].median(), r['roi'].median()])\n",
    "\n",
    "ax.set_title(\"Comparing Ratings by Median ROI\")\n",
    "\n",
    "ax.set_xlabel(\"Ratings\")\n",
    "ax.set_ylabel(\"Median ROI\")\n"
   ]
  },
  {
   "cell_type": "code",
   "execution_count": 70,
   "id": "979148df",
   "metadata": {},
   "outputs": [
    {
     "data": {
      "text/plain": [
       "Text(0, 0.5, 'Mean ROI')"
      ]
     },
     "execution_count": 70,
     "metadata": {},
     "output_type": "execute_result"
    },
    {
     "data": {
      "image/png": "[encoded data removed]",
      "text/plain": [
       "<Figure size 432x288 with 1 Axes>"
      ]
     },
     "metadata": {
      "needs_background": "light"
     },
     "output_type": "display_data"
    }
   ],
   "source": [
    "#comparing ratings by mean roi\n",
    "fig, ax = plt.subplots()\n",
    "\n",
    "ax.bar(['PG', 'PG-13', 'R'], [pg['roi'].mean(), pg_13['roi'].mean(), r['roi'].mean()])\n",
    "\n",
    "ax.set_title(\"Comparing Ratings by Mean ROI\")\n",
    "\n",
    "ax.set_xlabel(\"Ratings\")\n",
    "ax.set_ylabel(\"Mean ROI\")"
   ]
  },
  {
   "cell_type": "code",
   "execution_count": 77,
   "id": "362e6f2b",
   "metadata": {},
   "outputs": [
    {
     "data": {
      "text/plain": [
       "median     218.441822\n",
       "mean       349.597847\n",
       "min        -92.162137\n",
       "max       3181.450077\n",
       "std        413.828336\n",
       "Name: roi, dtype: float64"
      ]
     },
     "execution_count": 77,
     "metadata": {},
     "output_type": "execute_result"
    }
   ],
   "source": [
    "pg['roi'].agg(['median','mean','min','max','std'])"
   ]
  },
  {
   "cell_type": "code",
   "execution_count": 76,
   "id": "46cd880f",
   "metadata": {},
   "outputs": [
    {
     "data": {
      "text/plain": [
       "median     209.477695\n",
       "mean       334.203756\n",
       "min        -87.914286\n",
       "max       6526.521800\n",
       "std        571.708482\n",
       "Name: roi, dtype: float64"
      ]
     },
     "execution_count": 76,
     "metadata": {},
     "output_type": "execute_result"
    }
   ],
   "source": [
    "pg_13['roi'].agg(['median','mean','min','max','std'])"
   ]
  },
  {
   "cell_type": "code",
   "execution_count": 75,
   "id": "2cf5fee5",
   "metadata": {},
   "outputs": [
    {
     "data": {
      "text/plain": [
       "median      206.890955\n",
       "mean        488.955606\n",
       "min         -99.999996\n",
       "max       14175.153200\n",
       "std        1175.907659\n",
       "Name: roi, dtype: float64"
      ]
     },
     "execution_count": 75,
     "metadata": {},
     "output_type": "execute_result"
    }
   ],
   "source": [
    "r['roi'].agg(['median','mean','min','max','std'])"
   ]
  },
  {
   "cell_type": "code",
   "execution_count": null,
   "id": "d630a5a5",
   "metadata": {},
   "outputs": [],
   "source": []
  }
 ],
 "metadata": {
  "kernelspec": {
   "display_name": "Python (learn-env)",
   "language": "python",
   "name": "learn-env"
  },
  "language_info": {
   "codemirror_mode": {
    "name": "ipython",
    "version": 3
   },
   "file_extension": ".py",
   "mimetype": "text/x-python",
   "name": "python",
   "nbconvert_exporter": "python",
   "pygments_lexer": "ipython3",
   "version": "3.8.8"
  }
 },
 "nbformat": 4,
 "nbformat_minor": 5
}
